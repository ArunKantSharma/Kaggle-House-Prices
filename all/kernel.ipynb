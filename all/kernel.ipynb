{
 "cells": [
  {
   "cell_type": "code",
   "execution_count": 1,
   "metadata": {
    "_cell_guid": "b1076dfc-b9ad-4769-8c92-a6c4dae69d19",
    "_uuid": "8f2839f25d086af736a60e9eeb907d3b93b6e0e5",
    "scrolled": true
   },
   "outputs": [
    {
     "name": "stdout",
     "output_type": "stream",
     "text": [
      "['test.csv', 'data_description.txt', 'train.csv', 'sample_submission.csv']\n"
     ]
    }
   ],
   "source": [
    "# This Python 3 environment comes with many helpful analytics libraries installed\n",
    "# It is defined by the kaggle/python docker image: https://github.com/kaggle/docker-python\n",
    "# For example, here's several helpful packages to load in \n",
    "\n",
    "import numpy as np # linear algebra\n",
    "import pandas as pd # data processing, CSV file I/O (e.g. pd.read_csv)\n",
    "\n",
    "from sklearn.preprocessing import LabelEncoder, OneHotEncoder\n",
    "\n",
    "# Input data files are available in the \"../input/\" directory.\n",
    "# For example, running this (by clicking run or pressing Shift+Enter) will list the files in the input directory\n",
    "\n",
    "import os\n",
    "print(os.listdir(\"../input\"))\n",
    "\n",
    "# Any results you write to the current directory are saved as output."
   ]
  },
  {
   "cell_type": "code",
   "execution_count": 2,
   "metadata": {
    "_cell_guid": "79c7e3d0-c299-4dcb-8224-4455121ee9b0",
    "_uuid": "d629ff2d2480ee46fbb7e2d37f6b5fab8052498a",
    "scrolled": true
   },
   "outputs": [],
   "source": [
    "#Loading Data\n",
    "test = pd.read_csv(\"../input/test.csv\")\n",
    "train = pd.read_csv(\"../input/train.csv\")\n"
   ]
  },
  {
   "cell_type": "code",
   "execution_count": 3,
   "metadata": {
    "_uuid": "4ac1e2e57ed93adaa16894e37bafc3984656673f"
   },
   "outputs": [],
   "source": [
    "#test.info()\n",
    "test.shape #(1459, 80)\n",
    "train.shape #(1460, 81)\n",
    "\n",
    "a = train.columns.values.tolist()\n"
   ]
  },
  {
   "cell_type": "code",
   "execution_count": 4,
   "metadata": {},
   "outputs": [
    {
     "data": {
      "text/plain": [
       "{(0, 'Id'),\n",
       " (1, 'MSSubClass'),\n",
       " (2, 'MSZoning'),\n",
       " (3, 'LotFrontage'),\n",
       " (4, 'LotArea'),\n",
       " (5, 'Street'),\n",
       " (6, 'Alley'),\n",
       " (7, 'LotShape'),\n",
       " (8, 'LandContour'),\n",
       " (9, 'Utilities'),\n",
       " (10, 'LotConfig'),\n",
       " (11, 'LandSlope'),\n",
       " (12, 'Neighborhood'),\n",
       " (13, 'Condition1'),\n",
       " (14, 'Condition2'),\n",
       " (15, 'BldgType'),\n",
       " (16, 'HouseStyle'),\n",
       " (17, 'OverallQual'),\n",
       " (18, 'OverallCond'),\n",
       " (19, 'YearBuilt'),\n",
       " (20, 'YearRemodAdd'),\n",
       " (21, 'RoofStyle'),\n",
       " (22, 'RoofMatl'),\n",
       " (23, 'Exterior1st'),\n",
       " (24, 'Exterior2nd'),\n",
       " (25, 'MasVnrType'),\n",
       " (26, 'MasVnrArea'),\n",
       " (27, 'ExterQual'),\n",
       " (28, 'ExterCond'),\n",
       " (29, 'Foundation'),\n",
       " (30, 'BsmtQual'),\n",
       " (31, 'BsmtCond'),\n",
       " (32, 'BsmtExposure'),\n",
       " (33, 'BsmtFinType1'),\n",
       " (34, 'BsmtFinSF1'),\n",
       " (35, 'BsmtFinType2'),\n",
       " (36, 'BsmtFinSF2'),\n",
       " (37, 'BsmtUnfSF'),\n",
       " (38, 'TotalBsmtSF'),\n",
       " (39, 'Heating'),\n",
       " (40, 'HeatingQC'),\n",
       " (41, 'CentralAir'),\n",
       " (42, 'Electrical'),\n",
       " (43, '1stFlrSF'),\n",
       " (44, '2ndFlrSF'),\n",
       " (45, 'LowQualFinSF'),\n",
       " (46, 'GrLivArea'),\n",
       " (47, 'BsmtFullBath'),\n",
       " (48, 'BsmtHalfBath'),\n",
       " (49, 'FullBath'),\n",
       " (50, 'HalfBath'),\n",
       " (51, 'BedroomAbvGr'),\n",
       " (52, 'KitchenAbvGr'),\n",
       " (53, 'KitchenQual'),\n",
       " (54, 'TotRmsAbvGrd'),\n",
       " (55, 'Functional'),\n",
       " (56, 'Fireplaces'),\n",
       " (57, 'FireplaceQu'),\n",
       " (58, 'GarageType'),\n",
       " (59, 'GarageYrBlt'),\n",
       " (60, 'GarageFinish'),\n",
       " (61, 'GarageCars'),\n",
       " (62, 'GarageArea'),\n",
       " (63, 'GarageQual'),\n",
       " (64, 'GarageCond'),\n",
       " (65, 'PavedDrive'),\n",
       " (66, 'WoodDeckSF'),\n",
       " (67, 'OpenPorchSF'),\n",
       " (68, 'EnclosedPorch'),\n",
       " (69, '3SsnPorch'),\n",
       " (70, 'ScreenPorch'),\n",
       " (71, 'PoolArea'),\n",
       " (72, 'PoolQC'),\n",
       " (73, 'Fence'),\n",
       " (74, 'MiscFeature'),\n",
       " (75, 'MiscVal'),\n",
       " (76, 'MoSold'),\n",
       " (77, 'YrSold'),\n",
       " (78, 'SaleType'),\n",
       " (79, 'SaleCondition'),\n",
       " (80, 'SalePrice')}"
      ]
     },
     "execution_count": 4,
     "metadata": {},
     "output_type": "execute_result"
    }
   ],
   "source": [
    "len(a)\n",
    "column_name = zip(range(len(a)), a)\n",
    "set(column_name)"
   ]
  },
  {
   "cell_type": "code",
   "execution_count": 5,
   "metadata": {
    "_uuid": "a83af6c373ba6c89d5b952ca07cafcf00085f2de"
   },
   "outputs": [],
   "source": [
    "#\n",
    "import matplotlib.pyplot as plt\n",
    "%matplotlib inline\n",
    "\n",
    "import seaborn as sns\n",
    "sns.set(style='whitegrid')"
   ]
  },
  {
   "cell_type": "code",
   "execution_count": 6,
   "metadata": {
    "_uuid": "f8c5e49454f051071f48d287ab3dfdcde507f8a8"
   },
   "outputs": [
    {
     "data": {
      "text/html": [
       "<div>\n",
       "<style scoped>\n",
       "    .dataframe tbody tr th:only-of-type {\n",
       "        vertical-align: middle;\n",
       "    }\n",
       "\n",
       "    .dataframe tbody tr th {\n",
       "        vertical-align: top;\n",
       "    }\n",
       "\n",
       "    .dataframe thead th {\n",
       "        text-align: right;\n",
       "    }\n",
       "</style>\n",
       "<table border=\"1\" class=\"dataframe\">\n",
       "  <thead>\n",
       "    <tr style=\"text-align: right;\">\n",
       "      <th></th>\n",
       "      <th>Id</th>\n",
       "      <th>MSSubClass</th>\n",
       "      <th>MSZoning</th>\n",
       "      <th>LotFrontage</th>\n",
       "      <th>LotArea</th>\n",
       "      <th>Street</th>\n",
       "      <th>Alley</th>\n",
       "      <th>LotShape</th>\n",
       "      <th>LandContour</th>\n",
       "      <th>Utilities</th>\n",
       "      <th>...</th>\n",
       "      <th>PoolArea</th>\n",
       "      <th>PoolQC</th>\n",
       "      <th>Fence</th>\n",
       "      <th>MiscFeature</th>\n",
       "      <th>MiscVal</th>\n",
       "      <th>MoSold</th>\n",
       "      <th>YrSold</th>\n",
       "      <th>SaleType</th>\n",
       "      <th>SaleCondition</th>\n",
       "      <th>SalePrice</th>\n",
       "    </tr>\n",
       "  </thead>\n",
       "  <tbody>\n",
       "    <tr>\n",
       "      <th>0</th>\n",
       "      <td>1</td>\n",
       "      <td>60</td>\n",
       "      <td>RL</td>\n",
       "      <td>65.0</td>\n",
       "      <td>8450</td>\n",
       "      <td>Pave</td>\n",
       "      <td>NaN</td>\n",
       "      <td>Reg</td>\n",
       "      <td>Lvl</td>\n",
       "      <td>AllPub</td>\n",
       "      <td>...</td>\n",
       "      <td>0</td>\n",
       "      <td>NaN</td>\n",
       "      <td>NaN</td>\n",
       "      <td>NaN</td>\n",
       "      <td>0</td>\n",
       "      <td>2</td>\n",
       "      <td>2008</td>\n",
       "      <td>WD</td>\n",
       "      <td>Normal</td>\n",
       "      <td>208500</td>\n",
       "    </tr>\n",
       "    <tr>\n",
       "      <th>1</th>\n",
       "      <td>2</td>\n",
       "      <td>20</td>\n",
       "      <td>RL</td>\n",
       "      <td>80.0</td>\n",
       "      <td>9600</td>\n",
       "      <td>Pave</td>\n",
       "      <td>NaN</td>\n",
       "      <td>Reg</td>\n",
       "      <td>Lvl</td>\n",
       "      <td>AllPub</td>\n",
       "      <td>...</td>\n",
       "      <td>0</td>\n",
       "      <td>NaN</td>\n",
       "      <td>NaN</td>\n",
       "      <td>NaN</td>\n",
       "      <td>0</td>\n",
       "      <td>5</td>\n",
       "      <td>2007</td>\n",
       "      <td>WD</td>\n",
       "      <td>Normal</td>\n",
       "      <td>181500</td>\n",
       "    </tr>\n",
       "    <tr>\n",
       "      <th>2</th>\n",
       "      <td>3</td>\n",
       "      <td>60</td>\n",
       "      <td>RL</td>\n",
       "      <td>68.0</td>\n",
       "      <td>11250</td>\n",
       "      <td>Pave</td>\n",
       "      <td>NaN</td>\n",
       "      <td>IR1</td>\n",
       "      <td>Lvl</td>\n",
       "      <td>AllPub</td>\n",
       "      <td>...</td>\n",
       "      <td>0</td>\n",
       "      <td>NaN</td>\n",
       "      <td>NaN</td>\n",
       "      <td>NaN</td>\n",
       "      <td>0</td>\n",
       "      <td>9</td>\n",
       "      <td>2008</td>\n",
       "      <td>WD</td>\n",
       "      <td>Normal</td>\n",
       "      <td>223500</td>\n",
       "    </tr>\n",
       "    <tr>\n",
       "      <th>3</th>\n",
       "      <td>4</td>\n",
       "      <td>70</td>\n",
       "      <td>RL</td>\n",
       "      <td>60.0</td>\n",
       "      <td>9550</td>\n",
       "      <td>Pave</td>\n",
       "      <td>NaN</td>\n",
       "      <td>IR1</td>\n",
       "      <td>Lvl</td>\n",
       "      <td>AllPub</td>\n",
       "      <td>...</td>\n",
       "      <td>0</td>\n",
       "      <td>NaN</td>\n",
       "      <td>NaN</td>\n",
       "      <td>NaN</td>\n",
       "      <td>0</td>\n",
       "      <td>2</td>\n",
       "      <td>2006</td>\n",
       "      <td>WD</td>\n",
       "      <td>Abnorml</td>\n",
       "      <td>140000</td>\n",
       "    </tr>\n",
       "    <tr>\n",
       "      <th>4</th>\n",
       "      <td>5</td>\n",
       "      <td>60</td>\n",
       "      <td>RL</td>\n",
       "      <td>84.0</td>\n",
       "      <td>14260</td>\n",
       "      <td>Pave</td>\n",
       "      <td>NaN</td>\n",
       "      <td>IR1</td>\n",
       "      <td>Lvl</td>\n",
       "      <td>AllPub</td>\n",
       "      <td>...</td>\n",
       "      <td>0</td>\n",
       "      <td>NaN</td>\n",
       "      <td>NaN</td>\n",
       "      <td>NaN</td>\n",
       "      <td>0</td>\n",
       "      <td>12</td>\n",
       "      <td>2008</td>\n",
       "      <td>WD</td>\n",
       "      <td>Normal</td>\n",
       "      <td>250000</td>\n",
       "    </tr>\n",
       "  </tbody>\n",
       "</table>\n",
       "<p>5 rows × 81 columns</p>\n",
       "</div>"
      ],
      "text/plain": [
       "   Id  MSSubClass MSZoning  LotFrontage  LotArea Street Alley LotShape  \\\n",
       "0   1          60       RL         65.0     8450   Pave   NaN      Reg   \n",
       "1   2          20       RL         80.0     9600   Pave   NaN      Reg   \n",
       "2   3          60       RL         68.0    11250   Pave   NaN      IR1   \n",
       "3   4          70       RL         60.0     9550   Pave   NaN      IR1   \n",
       "4   5          60       RL         84.0    14260   Pave   NaN      IR1   \n",
       "\n",
       "  LandContour Utilities    ...     PoolArea PoolQC Fence MiscFeature MiscVal  \\\n",
       "0         Lvl    AllPub    ...            0    NaN   NaN         NaN       0   \n",
       "1         Lvl    AllPub    ...            0    NaN   NaN         NaN       0   \n",
       "2         Lvl    AllPub    ...            0    NaN   NaN         NaN       0   \n",
       "3         Lvl    AllPub    ...            0    NaN   NaN         NaN       0   \n",
       "4         Lvl    AllPub    ...            0    NaN   NaN         NaN       0   \n",
       "\n",
       "  MoSold YrSold  SaleType  SaleCondition  SalePrice  \n",
       "0      2   2008        WD         Normal     208500  \n",
       "1      5   2007        WD         Normal     181500  \n",
       "2      9   2008        WD         Normal     223500  \n",
       "3      2   2006        WD        Abnorml     140000  \n",
       "4     12   2008        WD         Normal     250000  \n",
       "\n",
       "[5 rows x 81 columns]"
      ]
     },
     "execution_count": 6,
     "metadata": {},
     "output_type": "execute_result"
    }
   ],
   "source": [
    "train.head()"
   ]
  },
  {
   "cell_type": "code",
   "execution_count": 7,
   "metadata": {
    "_uuid": "0f2a92a406bdfbd696bcd85fa558790515f1f469",
    "scrolled": true
   },
   "outputs": [
    {
     "data": {
      "text/html": [
       "<div>\n",
       "<style scoped>\n",
       "    .dataframe tbody tr th:only-of-type {\n",
       "        vertical-align: middle;\n",
       "    }\n",
       "\n",
       "    .dataframe tbody tr th {\n",
       "        vertical-align: top;\n",
       "    }\n",
       "\n",
       "    .dataframe thead th {\n",
       "        text-align: right;\n",
       "    }\n",
       "</style>\n",
       "<table border=\"1\" class=\"dataframe\">\n",
       "  <thead>\n",
       "    <tr style=\"text-align: right;\">\n",
       "      <th></th>\n",
       "      <th>Id</th>\n",
       "      <th>MSSubClass</th>\n",
       "      <th>MSZoning</th>\n",
       "      <th>LotFrontage</th>\n",
       "      <th>LotArea</th>\n",
       "      <th>Street</th>\n",
       "      <th>Alley</th>\n",
       "      <th>LotShape</th>\n",
       "      <th>LandContour</th>\n",
       "      <th>Utilities</th>\n",
       "      <th>...</th>\n",
       "      <th>ScreenPorch</th>\n",
       "      <th>PoolArea</th>\n",
       "      <th>PoolQC</th>\n",
       "      <th>Fence</th>\n",
       "      <th>MiscFeature</th>\n",
       "      <th>MiscVal</th>\n",
       "      <th>MoSold</th>\n",
       "      <th>YrSold</th>\n",
       "      <th>SaleType</th>\n",
       "      <th>SaleCondition</th>\n",
       "    </tr>\n",
       "  </thead>\n",
       "  <tbody>\n",
       "    <tr>\n",
       "      <th>0</th>\n",
       "      <td>1461</td>\n",
       "      <td>20</td>\n",
       "      <td>RH</td>\n",
       "      <td>80.0</td>\n",
       "      <td>11622</td>\n",
       "      <td>Pave</td>\n",
       "      <td>NaN</td>\n",
       "      <td>Reg</td>\n",
       "      <td>Lvl</td>\n",
       "      <td>AllPub</td>\n",
       "      <td>...</td>\n",
       "      <td>120</td>\n",
       "      <td>0</td>\n",
       "      <td>NaN</td>\n",
       "      <td>MnPrv</td>\n",
       "      <td>NaN</td>\n",
       "      <td>0</td>\n",
       "      <td>6</td>\n",
       "      <td>2010</td>\n",
       "      <td>WD</td>\n",
       "      <td>Normal</td>\n",
       "    </tr>\n",
       "    <tr>\n",
       "      <th>1</th>\n",
       "      <td>1462</td>\n",
       "      <td>20</td>\n",
       "      <td>RL</td>\n",
       "      <td>81.0</td>\n",
       "      <td>14267</td>\n",
       "      <td>Pave</td>\n",
       "      <td>NaN</td>\n",
       "      <td>IR1</td>\n",
       "      <td>Lvl</td>\n",
       "      <td>AllPub</td>\n",
       "      <td>...</td>\n",
       "      <td>0</td>\n",
       "      <td>0</td>\n",
       "      <td>NaN</td>\n",
       "      <td>NaN</td>\n",
       "      <td>Gar2</td>\n",
       "      <td>12500</td>\n",
       "      <td>6</td>\n",
       "      <td>2010</td>\n",
       "      <td>WD</td>\n",
       "      <td>Normal</td>\n",
       "    </tr>\n",
       "    <tr>\n",
       "      <th>2</th>\n",
       "      <td>1463</td>\n",
       "      <td>60</td>\n",
       "      <td>RL</td>\n",
       "      <td>74.0</td>\n",
       "      <td>13830</td>\n",
       "      <td>Pave</td>\n",
       "      <td>NaN</td>\n",
       "      <td>IR1</td>\n",
       "      <td>Lvl</td>\n",
       "      <td>AllPub</td>\n",
       "      <td>...</td>\n",
       "      <td>0</td>\n",
       "      <td>0</td>\n",
       "      <td>NaN</td>\n",
       "      <td>MnPrv</td>\n",
       "      <td>NaN</td>\n",
       "      <td>0</td>\n",
       "      <td>3</td>\n",
       "      <td>2010</td>\n",
       "      <td>WD</td>\n",
       "      <td>Normal</td>\n",
       "    </tr>\n",
       "    <tr>\n",
       "      <th>3</th>\n",
       "      <td>1464</td>\n",
       "      <td>60</td>\n",
       "      <td>RL</td>\n",
       "      <td>78.0</td>\n",
       "      <td>9978</td>\n",
       "      <td>Pave</td>\n",
       "      <td>NaN</td>\n",
       "      <td>IR1</td>\n",
       "      <td>Lvl</td>\n",
       "      <td>AllPub</td>\n",
       "      <td>...</td>\n",
       "      <td>0</td>\n",
       "      <td>0</td>\n",
       "      <td>NaN</td>\n",
       "      <td>NaN</td>\n",
       "      <td>NaN</td>\n",
       "      <td>0</td>\n",
       "      <td>6</td>\n",
       "      <td>2010</td>\n",
       "      <td>WD</td>\n",
       "      <td>Normal</td>\n",
       "    </tr>\n",
       "    <tr>\n",
       "      <th>4</th>\n",
       "      <td>1465</td>\n",
       "      <td>120</td>\n",
       "      <td>RL</td>\n",
       "      <td>43.0</td>\n",
       "      <td>5005</td>\n",
       "      <td>Pave</td>\n",
       "      <td>NaN</td>\n",
       "      <td>IR1</td>\n",
       "      <td>HLS</td>\n",
       "      <td>AllPub</td>\n",
       "      <td>...</td>\n",
       "      <td>144</td>\n",
       "      <td>0</td>\n",
       "      <td>NaN</td>\n",
       "      <td>NaN</td>\n",
       "      <td>NaN</td>\n",
       "      <td>0</td>\n",
       "      <td>1</td>\n",
       "      <td>2010</td>\n",
       "      <td>WD</td>\n",
       "      <td>Normal</td>\n",
       "    </tr>\n",
       "  </tbody>\n",
       "</table>\n",
       "<p>5 rows × 80 columns</p>\n",
       "</div>"
      ],
      "text/plain": [
       "     Id  MSSubClass MSZoning  LotFrontage  LotArea Street Alley LotShape  \\\n",
       "0  1461          20       RH         80.0    11622   Pave   NaN      Reg   \n",
       "1  1462          20       RL         81.0    14267   Pave   NaN      IR1   \n",
       "2  1463          60       RL         74.0    13830   Pave   NaN      IR1   \n",
       "3  1464          60       RL         78.0     9978   Pave   NaN      IR1   \n",
       "4  1465         120       RL         43.0     5005   Pave   NaN      IR1   \n",
       "\n",
       "  LandContour Utilities      ...       ScreenPorch PoolArea PoolQC  Fence  \\\n",
       "0         Lvl    AllPub      ...               120        0    NaN  MnPrv   \n",
       "1         Lvl    AllPub      ...                 0        0    NaN    NaN   \n",
       "2         Lvl    AllPub      ...                 0        0    NaN  MnPrv   \n",
       "3         Lvl    AllPub      ...                 0        0    NaN    NaN   \n",
       "4         HLS    AllPub      ...               144        0    NaN    NaN   \n",
       "\n",
       "  MiscFeature MiscVal MoSold  YrSold  SaleType  SaleCondition  \n",
       "0         NaN       0      6    2010        WD         Normal  \n",
       "1        Gar2   12500      6    2010        WD         Normal  \n",
       "2         NaN       0      3    2010        WD         Normal  \n",
       "3         NaN       0      6    2010        WD         Normal  \n",
       "4         NaN       0      1    2010        WD         Normal  \n",
       "\n",
       "[5 rows x 80 columns]"
      ]
     },
     "execution_count": 7,
     "metadata": {},
     "output_type": "execute_result"
    }
   ],
   "source": [
    "test.head()"
   ]
  },
  {
   "cell_type": "code",
   "execution_count": 8,
   "metadata": {
    "_uuid": "9b7ca928812bb56db17c6af975a96164d4e9ba28"
   },
   "outputs": [],
   "source": [
    "def missing_data_fun(df):\n",
    "    total = df.isnull().sum().sort_values(ascending=False)\n",
    "    percent = (df.isnull().sum()/df.isnull().count()).sort_values(ascending=False)\n",
    "    missing_data_df = pd.concat([total, percent], axis=1, keys=['Total', 'Percent'])\n",
    "    missing_data_df = missing_data_df.loc[missing_data_df['Total'] >0]\n",
    "    return missing_data_df"
   ]
  },
  {
   "cell_type": "code",
   "execution_count": 9,
   "metadata": {
    "_uuid": "61e464ec9161c1aaf3abf76a7c38383e83fb0341"
   },
   "outputs": [
    {
     "data": {
      "text/html": [
       "<div>\n",
       "<style scoped>\n",
       "    .dataframe tbody tr th:only-of-type {\n",
       "        vertical-align: middle;\n",
       "    }\n",
       "\n",
       "    .dataframe tbody tr th {\n",
       "        vertical-align: top;\n",
       "    }\n",
       "\n",
       "    .dataframe thead th {\n",
       "        text-align: right;\n",
       "    }\n",
       "</style>\n",
       "<table border=\"1\" class=\"dataframe\">\n",
       "  <thead>\n",
       "    <tr style=\"text-align: right;\">\n",
       "      <th></th>\n",
       "      <th>Total</th>\n",
       "      <th>Percent</th>\n",
       "    </tr>\n",
       "  </thead>\n",
       "  <tbody>\n",
       "    <tr>\n",
       "      <th>PoolQC</th>\n",
       "      <td>1453</td>\n",
       "      <td>0.995205</td>\n",
       "    </tr>\n",
       "    <tr>\n",
       "      <th>MiscFeature</th>\n",
       "      <td>1406</td>\n",
       "      <td>0.963014</td>\n",
       "    </tr>\n",
       "    <tr>\n",
       "      <th>Alley</th>\n",
       "      <td>1369</td>\n",
       "      <td>0.937671</td>\n",
       "    </tr>\n",
       "    <tr>\n",
       "      <th>Fence</th>\n",
       "      <td>1179</td>\n",
       "      <td>0.807534</td>\n",
       "    </tr>\n",
       "    <tr>\n",
       "      <th>FireplaceQu</th>\n",
       "      <td>690</td>\n",
       "      <td>0.472603</td>\n",
       "    </tr>\n",
       "    <tr>\n",
       "      <th>LotFrontage</th>\n",
       "      <td>259</td>\n",
       "      <td>0.177397</td>\n",
       "    </tr>\n",
       "    <tr>\n",
       "      <th>GarageCond</th>\n",
       "      <td>81</td>\n",
       "      <td>0.055479</td>\n",
       "    </tr>\n",
       "    <tr>\n",
       "      <th>GarageType</th>\n",
       "      <td>81</td>\n",
       "      <td>0.055479</td>\n",
       "    </tr>\n",
       "    <tr>\n",
       "      <th>GarageYrBlt</th>\n",
       "      <td>81</td>\n",
       "      <td>0.055479</td>\n",
       "    </tr>\n",
       "    <tr>\n",
       "      <th>GarageFinish</th>\n",
       "      <td>81</td>\n",
       "      <td>0.055479</td>\n",
       "    </tr>\n",
       "    <tr>\n",
       "      <th>GarageQual</th>\n",
       "      <td>81</td>\n",
       "      <td>0.055479</td>\n",
       "    </tr>\n",
       "    <tr>\n",
       "      <th>BsmtExposure</th>\n",
       "      <td>38</td>\n",
       "      <td>0.026027</td>\n",
       "    </tr>\n",
       "    <tr>\n",
       "      <th>BsmtFinType2</th>\n",
       "      <td>38</td>\n",
       "      <td>0.026027</td>\n",
       "    </tr>\n",
       "    <tr>\n",
       "      <th>BsmtFinType1</th>\n",
       "      <td>37</td>\n",
       "      <td>0.025342</td>\n",
       "    </tr>\n",
       "    <tr>\n",
       "      <th>BsmtCond</th>\n",
       "      <td>37</td>\n",
       "      <td>0.025342</td>\n",
       "    </tr>\n",
       "    <tr>\n",
       "      <th>BsmtQual</th>\n",
       "      <td>37</td>\n",
       "      <td>0.025342</td>\n",
       "    </tr>\n",
       "    <tr>\n",
       "      <th>MasVnrArea</th>\n",
       "      <td>8</td>\n",
       "      <td>0.005479</td>\n",
       "    </tr>\n",
       "    <tr>\n",
       "      <th>MasVnrType</th>\n",
       "      <td>8</td>\n",
       "      <td>0.005479</td>\n",
       "    </tr>\n",
       "    <tr>\n",
       "      <th>Electrical</th>\n",
       "      <td>1</td>\n",
       "      <td>0.000685</td>\n",
       "    </tr>\n",
       "  </tbody>\n",
       "</table>\n",
       "</div>"
      ],
      "text/plain": [
       "              Total   Percent\n",
       "PoolQC         1453  0.995205\n",
       "MiscFeature    1406  0.963014\n",
       "Alley          1369  0.937671\n",
       "Fence          1179  0.807534\n",
       "FireplaceQu     690  0.472603\n",
       "LotFrontage     259  0.177397\n",
       "GarageCond       81  0.055479\n",
       "GarageType       81  0.055479\n",
       "GarageYrBlt      81  0.055479\n",
       "GarageFinish     81  0.055479\n",
       "GarageQual       81  0.055479\n",
       "BsmtExposure     38  0.026027\n",
       "BsmtFinType2     38  0.026027\n",
       "BsmtFinType1     37  0.025342\n",
       "BsmtCond         37  0.025342\n",
       "BsmtQual         37  0.025342\n",
       "MasVnrArea        8  0.005479\n",
       "MasVnrType        8  0.005479\n",
       "Electrical        1  0.000685"
      ]
     },
     "execution_count": 9,
     "metadata": {},
     "output_type": "execute_result"
    }
   ],
   "source": [
    "missing_data_train = missing_data_fun(train)\n",
    "missing_data_train"
   ]
  },
  {
   "cell_type": "code",
   "execution_count": 10,
   "metadata": {
    "_uuid": "1b33c46529f674284012f3bb42b287fe5f815921"
   },
   "outputs": [
    {
     "data": {
      "text/html": [
       "<div>\n",
       "<style scoped>\n",
       "    .dataframe tbody tr th:only-of-type {\n",
       "        vertical-align: middle;\n",
       "    }\n",
       "\n",
       "    .dataframe tbody tr th {\n",
       "        vertical-align: top;\n",
       "    }\n",
       "\n",
       "    .dataframe thead th {\n",
       "        text-align: right;\n",
       "    }\n",
       "</style>\n",
       "<table border=\"1\" class=\"dataframe\">\n",
       "  <thead>\n",
       "    <tr style=\"text-align: right;\">\n",
       "      <th></th>\n",
       "      <th>Total</th>\n",
       "      <th>Percent</th>\n",
       "    </tr>\n",
       "  </thead>\n",
       "  <tbody>\n",
       "    <tr>\n",
       "      <th>PoolQC</th>\n",
       "      <td>1453</td>\n",
       "      <td>0.995205</td>\n",
       "    </tr>\n",
       "    <tr>\n",
       "      <th>MiscFeature</th>\n",
       "      <td>1406</td>\n",
       "      <td>0.963014</td>\n",
       "    </tr>\n",
       "    <tr>\n",
       "      <th>Alley</th>\n",
       "      <td>1369</td>\n",
       "      <td>0.937671</td>\n",
       "    </tr>\n",
       "    <tr>\n",
       "      <th>Fence</th>\n",
       "      <td>1179</td>\n",
       "      <td>0.807534</td>\n",
       "    </tr>\n",
       "    <tr>\n",
       "      <th>FireplaceQu</th>\n",
       "      <td>690</td>\n",
       "      <td>0.472603</td>\n",
       "    </tr>\n",
       "    <tr>\n",
       "      <th>LotFrontage</th>\n",
       "      <td>259</td>\n",
       "      <td>0.177397</td>\n",
       "    </tr>\n",
       "    <tr>\n",
       "      <th>GarageCond</th>\n",
       "      <td>81</td>\n",
       "      <td>0.055479</td>\n",
       "    </tr>\n",
       "    <tr>\n",
       "      <th>GarageType</th>\n",
       "      <td>81</td>\n",
       "      <td>0.055479</td>\n",
       "    </tr>\n",
       "    <tr>\n",
       "      <th>GarageYrBlt</th>\n",
       "      <td>81</td>\n",
       "      <td>0.055479</td>\n",
       "    </tr>\n",
       "    <tr>\n",
       "      <th>GarageFinish</th>\n",
       "      <td>81</td>\n",
       "      <td>0.055479</td>\n",
       "    </tr>\n",
       "    <tr>\n",
       "      <th>GarageQual</th>\n",
       "      <td>81</td>\n",
       "      <td>0.055479</td>\n",
       "    </tr>\n",
       "    <tr>\n",
       "      <th>BsmtExposure</th>\n",
       "      <td>38</td>\n",
       "      <td>0.026027</td>\n",
       "    </tr>\n",
       "    <tr>\n",
       "      <th>BsmtFinType2</th>\n",
       "      <td>38</td>\n",
       "      <td>0.026027</td>\n",
       "    </tr>\n",
       "    <tr>\n",
       "      <th>BsmtFinType1</th>\n",
       "      <td>37</td>\n",
       "      <td>0.025342</td>\n",
       "    </tr>\n",
       "    <tr>\n",
       "      <th>BsmtCond</th>\n",
       "      <td>37</td>\n",
       "      <td>0.025342</td>\n",
       "    </tr>\n",
       "    <tr>\n",
       "      <th>BsmtQual</th>\n",
       "      <td>37</td>\n",
       "      <td>0.025342</td>\n",
       "    </tr>\n",
       "    <tr>\n",
       "      <th>MasVnrArea</th>\n",
       "      <td>8</td>\n",
       "      <td>0.005479</td>\n",
       "    </tr>\n",
       "    <tr>\n",
       "      <th>MasVnrType</th>\n",
       "      <td>8</td>\n",
       "      <td>0.005479</td>\n",
       "    </tr>\n",
       "    <tr>\n",
       "      <th>Electrical</th>\n",
       "      <td>1</td>\n",
       "      <td>0.000685</td>\n",
       "    </tr>\n",
       "  </tbody>\n",
       "</table>\n",
       "</div>"
      ],
      "text/plain": [
       "              Total   Percent\n",
       "PoolQC         1453  0.995205\n",
       "MiscFeature    1406  0.963014\n",
       "Alley          1369  0.937671\n",
       "Fence          1179  0.807534\n",
       "FireplaceQu     690  0.472603\n",
       "LotFrontage     259  0.177397\n",
       "GarageCond       81  0.055479\n",
       "GarageType       81  0.055479\n",
       "GarageYrBlt      81  0.055479\n",
       "GarageFinish     81  0.055479\n",
       "GarageQual       81  0.055479\n",
       "BsmtExposure     38  0.026027\n",
       "BsmtFinType2     38  0.026027\n",
       "BsmtFinType1     37  0.025342\n",
       "BsmtCond         37  0.025342\n",
       "BsmtQual         37  0.025342\n",
       "MasVnrArea        8  0.005479\n",
       "MasVnrType        8  0.005479\n",
       "Electrical        1  0.000685"
      ]
     },
     "execution_count": 10,
     "metadata": {},
     "output_type": "execute_result"
    }
   ],
   "source": [
    "missing_data_train = missing_data_fun(train)\n",
    "missing_data_train"
   ]
  },
  {
   "cell_type": "code",
   "execution_count": 11,
   "metadata": {
    "_uuid": "382c9d9913c875fb76f429340261dccbf6e2e99d",
    "scrolled": false
   },
   "outputs": [
    {
     "data": {
      "text/html": [
       "<div>\n",
       "<style scoped>\n",
       "    .dataframe tbody tr th:only-of-type {\n",
       "        vertical-align: middle;\n",
       "    }\n",
       "\n",
       "    .dataframe tbody tr th {\n",
       "        vertical-align: top;\n",
       "    }\n",
       "\n",
       "    .dataframe thead th {\n",
       "        text-align: right;\n",
       "    }\n",
       "</style>\n",
       "<table border=\"1\" class=\"dataframe\">\n",
       "  <thead>\n",
       "    <tr style=\"text-align: right;\">\n",
       "      <th></th>\n",
       "      <th>Total</th>\n",
       "      <th>Percent</th>\n",
       "    </tr>\n",
       "  </thead>\n",
       "  <tbody>\n",
       "    <tr>\n",
       "      <th>PoolQC</th>\n",
       "      <td>1456</td>\n",
       "      <td>0.997944</td>\n",
       "    </tr>\n",
       "    <tr>\n",
       "      <th>MiscFeature</th>\n",
       "      <td>1408</td>\n",
       "      <td>0.965045</td>\n",
       "    </tr>\n",
       "    <tr>\n",
       "      <th>Alley</th>\n",
       "      <td>1352</td>\n",
       "      <td>0.926662</td>\n",
       "    </tr>\n",
       "    <tr>\n",
       "      <th>Fence</th>\n",
       "      <td>1169</td>\n",
       "      <td>0.801234</td>\n",
       "    </tr>\n",
       "    <tr>\n",
       "      <th>FireplaceQu</th>\n",
       "      <td>730</td>\n",
       "      <td>0.500343</td>\n",
       "    </tr>\n",
       "    <tr>\n",
       "      <th>LotFrontage</th>\n",
       "      <td>227</td>\n",
       "      <td>0.155586</td>\n",
       "    </tr>\n",
       "    <tr>\n",
       "      <th>GarageCond</th>\n",
       "      <td>78</td>\n",
       "      <td>0.053461</td>\n",
       "    </tr>\n",
       "    <tr>\n",
       "      <th>GarageQual</th>\n",
       "      <td>78</td>\n",
       "      <td>0.053461</td>\n",
       "    </tr>\n",
       "    <tr>\n",
       "      <th>GarageYrBlt</th>\n",
       "      <td>78</td>\n",
       "      <td>0.053461</td>\n",
       "    </tr>\n",
       "    <tr>\n",
       "      <th>GarageFinish</th>\n",
       "      <td>78</td>\n",
       "      <td>0.053461</td>\n",
       "    </tr>\n",
       "    <tr>\n",
       "      <th>GarageType</th>\n",
       "      <td>76</td>\n",
       "      <td>0.052090</td>\n",
       "    </tr>\n",
       "    <tr>\n",
       "      <th>BsmtCond</th>\n",
       "      <td>45</td>\n",
       "      <td>0.030843</td>\n",
       "    </tr>\n",
       "    <tr>\n",
       "      <th>BsmtQual</th>\n",
       "      <td>44</td>\n",
       "      <td>0.030158</td>\n",
       "    </tr>\n",
       "    <tr>\n",
       "      <th>BsmtExposure</th>\n",
       "      <td>44</td>\n",
       "      <td>0.030158</td>\n",
       "    </tr>\n",
       "    <tr>\n",
       "      <th>BsmtFinType1</th>\n",
       "      <td>42</td>\n",
       "      <td>0.028787</td>\n",
       "    </tr>\n",
       "    <tr>\n",
       "      <th>BsmtFinType2</th>\n",
       "      <td>42</td>\n",
       "      <td>0.028787</td>\n",
       "    </tr>\n",
       "    <tr>\n",
       "      <th>MasVnrType</th>\n",
       "      <td>16</td>\n",
       "      <td>0.010966</td>\n",
       "    </tr>\n",
       "    <tr>\n",
       "      <th>MasVnrArea</th>\n",
       "      <td>15</td>\n",
       "      <td>0.010281</td>\n",
       "    </tr>\n",
       "    <tr>\n",
       "      <th>MSZoning</th>\n",
       "      <td>4</td>\n",
       "      <td>0.002742</td>\n",
       "    </tr>\n",
       "    <tr>\n",
       "      <th>BsmtHalfBath</th>\n",
       "      <td>2</td>\n",
       "      <td>0.001371</td>\n",
       "    </tr>\n",
       "    <tr>\n",
       "      <th>Utilities</th>\n",
       "      <td>2</td>\n",
       "      <td>0.001371</td>\n",
       "    </tr>\n",
       "    <tr>\n",
       "      <th>Functional</th>\n",
       "      <td>2</td>\n",
       "      <td>0.001371</td>\n",
       "    </tr>\n",
       "    <tr>\n",
       "      <th>BsmtFullBath</th>\n",
       "      <td>2</td>\n",
       "      <td>0.001371</td>\n",
       "    </tr>\n",
       "    <tr>\n",
       "      <th>BsmtFinSF2</th>\n",
       "      <td>1</td>\n",
       "      <td>0.000685</td>\n",
       "    </tr>\n",
       "    <tr>\n",
       "      <th>BsmtFinSF1</th>\n",
       "      <td>1</td>\n",
       "      <td>0.000685</td>\n",
       "    </tr>\n",
       "    <tr>\n",
       "      <th>Exterior2nd</th>\n",
       "      <td>1</td>\n",
       "      <td>0.000685</td>\n",
       "    </tr>\n",
       "    <tr>\n",
       "      <th>BsmtUnfSF</th>\n",
       "      <td>1</td>\n",
       "      <td>0.000685</td>\n",
       "    </tr>\n",
       "    <tr>\n",
       "      <th>TotalBsmtSF</th>\n",
       "      <td>1</td>\n",
       "      <td>0.000685</td>\n",
       "    </tr>\n",
       "    <tr>\n",
       "      <th>SaleType</th>\n",
       "      <td>1</td>\n",
       "      <td>0.000685</td>\n",
       "    </tr>\n",
       "    <tr>\n",
       "      <th>Exterior1st</th>\n",
       "      <td>1</td>\n",
       "      <td>0.000685</td>\n",
       "    </tr>\n",
       "    <tr>\n",
       "      <th>KitchenQual</th>\n",
       "      <td>1</td>\n",
       "      <td>0.000685</td>\n",
       "    </tr>\n",
       "    <tr>\n",
       "      <th>GarageArea</th>\n",
       "      <td>1</td>\n",
       "      <td>0.000685</td>\n",
       "    </tr>\n",
       "    <tr>\n",
       "      <th>GarageCars</th>\n",
       "      <td>1</td>\n",
       "      <td>0.000685</td>\n",
       "    </tr>\n",
       "  </tbody>\n",
       "</table>\n",
       "</div>"
      ],
      "text/plain": [
       "              Total   Percent\n",
       "PoolQC         1456  0.997944\n",
       "MiscFeature    1408  0.965045\n",
       "Alley          1352  0.926662\n",
       "Fence          1169  0.801234\n",
       "FireplaceQu     730  0.500343\n",
       "LotFrontage     227  0.155586\n",
       "GarageCond       78  0.053461\n",
       "GarageQual       78  0.053461\n",
       "GarageYrBlt      78  0.053461\n",
       "GarageFinish     78  0.053461\n",
       "GarageType       76  0.052090\n",
       "BsmtCond         45  0.030843\n",
       "BsmtQual         44  0.030158\n",
       "BsmtExposure     44  0.030158\n",
       "BsmtFinType1     42  0.028787\n",
       "BsmtFinType2     42  0.028787\n",
       "MasVnrType       16  0.010966\n",
       "MasVnrArea       15  0.010281\n",
       "MSZoning          4  0.002742\n",
       "BsmtHalfBath      2  0.001371\n",
       "Utilities         2  0.001371\n",
       "Functional        2  0.001371\n",
       "BsmtFullBath      2  0.001371\n",
       "BsmtFinSF2        1  0.000685\n",
       "BsmtFinSF1        1  0.000685\n",
       "Exterior2nd       1  0.000685\n",
       "BsmtUnfSF         1  0.000685\n",
       "TotalBsmtSF       1  0.000685\n",
       "SaleType          1  0.000685\n",
       "Exterior1st       1  0.000685\n",
       "KitchenQual       1  0.000685\n",
       "GarageArea        1  0.000685\n",
       "GarageCars        1  0.000685"
      ]
     },
     "execution_count": 11,
     "metadata": {},
     "output_type": "execute_result"
    }
   ],
   "source": [
    "missing_data_test = missing_data_fun(test)\n",
    "missing_data_test"
   ]
  },
  {
   "cell_type": "code",
   "execution_count": 12,
   "metadata": {
    "_uuid": "93fcd3ad9bdebfb1cd72c27fb8151e218b46bdac",
    "scrolled": true
   },
   "outputs": [
    {
     "data": {
      "text/plain": [
       "Index(['Alley', 'BsmtCond', 'BsmtExposure', 'BsmtFinSF1', 'BsmtFinSF2',\n",
       "       'BsmtFinType1', 'BsmtFinType2', 'BsmtFullBath', 'BsmtHalfBath',\n",
       "       'BsmtQual', 'BsmtUnfSF', 'Electrical', 'Exterior1st', 'Exterior2nd',\n",
       "       'Fence', 'FireplaceQu', 'Functional', 'GarageArea', 'GarageCars',\n",
       "       'GarageCond', 'GarageFinish', 'GarageQual', 'GarageType', 'GarageYrBlt',\n",
       "       'KitchenQual', 'LotFrontage', 'MSZoning', 'MasVnrArea', 'MasVnrType',\n",
       "       'MiscFeature', 'PoolQC', 'SaleType', 'TotalBsmtSF', 'Utilities'],\n",
       "      dtype='object')"
      ]
     },
     "execution_count": 12,
     "metadata": {},
     "output_type": "execute_result"
    }
   ],
   "source": [
    "missing_data = pd.merge(missing_data_test, missing_data_train, how ='outer', left_index=True, right_index=True, suffixes = ('_test','_train'))\n",
    "missing_data.index\n"
   ]
  },
  {
   "cell_type": "code",
   "execution_count": 13,
   "metadata": {
    "_uuid": "d7b5542953bddaf5d66d103a0f4c6b2797c09cc3"
   },
   "outputs": [],
   "source": [
    "'''\n",
    "In some columns missing fields means, that feature is not available.\n",
    "Refer data_description.txt\n",
    "['Alley', 'BsmtCond', 'BsmtExposure', 'BsmtFinSF2',\n",
    "'BsmtFinType1', 'BsmtFinType2', 'BsmtHalfBath',\n",
    "'BsmtQual', 'BsmtUnfSF', 'Fence', 'FireplaceQu','GarageCond', 'GarageFinish', 'GarageQual', \n",
    "'GarageType',  'MasVnrType','MiscFeature', 'PoolQC']\n",
    "'MSZoning', 'Functional', 'Exterior2nd', 'Exterior1st',\n",
    "BsmtFinSF2, BsmtHalfBath\n",
    "'''\n",
    "\n",
    "# Missing data columns where NaN values have meaning thats feature not available.\n",
    "cols_fillna = ['Alley', 'BsmtCond', 'BsmtExposure','BsmtFinType1', \n",
    "               'BsmtFinType2','BsmtQual', 'Fence', \n",
    "               'FireplaceQu','GarageCond', 'GarageFinish', 'GarageQual', \n",
    "               'GarageType',  'MasVnrType','MiscFeature', 'PoolQC','Utilities',\n",
    "               'KitchenQual','SaleType']\n",
    "\n",
    "# replace 'NaN' with 'None' in these columns\n",
    "for col in cols_fillna:\n",
    "    train[col].fillna('None',inplace=True)\n",
    "    test[col].fillna('None',inplace=True)\n",
    "\n",
    "train['BsmtFinSF2'].fillna(0,inplace=True)\n",
    "test['BsmtFinSF2'].fillna(0,inplace=True)\n",
    "\n",
    "train['BsmtHalfBath'].fillna(0,inplace=True)\n",
    "test['BsmtHalfBath'].fillna(0,inplace=True)"
   ]
  },
  {
   "cell_type": "code",
   "execution_count": 14,
   "metadata": {
    "_uuid": "2125d2023676c1348a995271cd296c9cf75330d9",
    "scrolled": false
   },
   "outputs": [
    {
     "data": {
      "text/html": [
       "<div>\n",
       "<style scoped>\n",
       "    .dataframe tbody tr th:only-of-type {\n",
       "        vertical-align: middle;\n",
       "    }\n",
       "\n",
       "    .dataframe tbody tr th {\n",
       "        vertical-align: top;\n",
       "    }\n",
       "\n",
       "    .dataframe thead th {\n",
       "        text-align: right;\n",
       "    }\n",
       "</style>\n",
       "<table border=\"1\" class=\"dataframe\">\n",
       "  <thead>\n",
       "    <tr style=\"text-align: right;\">\n",
       "      <th></th>\n",
       "      <th>Total</th>\n",
       "      <th>Percent</th>\n",
       "    </tr>\n",
       "  </thead>\n",
       "  <tbody>\n",
       "    <tr>\n",
       "      <th>LotFrontage</th>\n",
       "      <td>259</td>\n",
       "      <td>0.177397</td>\n",
       "    </tr>\n",
       "    <tr>\n",
       "      <th>GarageYrBlt</th>\n",
       "      <td>81</td>\n",
       "      <td>0.055479</td>\n",
       "    </tr>\n",
       "    <tr>\n",
       "      <th>MasVnrArea</th>\n",
       "      <td>8</td>\n",
       "      <td>0.005479</td>\n",
       "    </tr>\n",
       "    <tr>\n",
       "      <th>Electrical</th>\n",
       "      <td>1</td>\n",
       "      <td>0.000685</td>\n",
       "    </tr>\n",
       "  </tbody>\n",
       "</table>\n",
       "</div>"
      ],
      "text/plain": [
       "             Total   Percent\n",
       "LotFrontage    259  0.177397\n",
       "GarageYrBlt     81  0.055479\n",
       "MasVnrArea       8  0.005479\n",
       "Electrical       1  0.000685"
      ]
     },
     "execution_count": 14,
     "metadata": {},
     "output_type": "execute_result"
    }
   ],
   "source": [
    "missing_data_train = missing_data_fun(train)\n",
    "missing_data_train\n",
    "\n"
   ]
  },
  {
   "cell_type": "code",
   "execution_count": 15,
   "metadata": {
    "_uuid": "5865f259b4bc492e87d25335010f7b3e9733c657"
   },
   "outputs": [
    {
     "data": {
      "text/html": [
       "<div>\n",
       "<style scoped>\n",
       "    .dataframe tbody tr th:only-of-type {\n",
       "        vertical-align: middle;\n",
       "    }\n",
       "\n",
       "    .dataframe tbody tr th {\n",
       "        vertical-align: top;\n",
       "    }\n",
       "\n",
       "    .dataframe thead th {\n",
       "        text-align: right;\n",
       "    }\n",
       "</style>\n",
       "<table border=\"1\" class=\"dataframe\">\n",
       "  <thead>\n",
       "    <tr style=\"text-align: right;\">\n",
       "      <th></th>\n",
       "      <th>Total</th>\n",
       "      <th>Percent</th>\n",
       "    </tr>\n",
       "  </thead>\n",
       "  <tbody>\n",
       "    <tr>\n",
       "      <th>LotFrontage</th>\n",
       "      <td>227</td>\n",
       "      <td>0.155586</td>\n",
       "    </tr>\n",
       "    <tr>\n",
       "      <th>GarageYrBlt</th>\n",
       "      <td>78</td>\n",
       "      <td>0.053461</td>\n",
       "    </tr>\n",
       "    <tr>\n",
       "      <th>MasVnrArea</th>\n",
       "      <td>15</td>\n",
       "      <td>0.010281</td>\n",
       "    </tr>\n",
       "    <tr>\n",
       "      <th>MSZoning</th>\n",
       "      <td>4</td>\n",
       "      <td>0.002742</td>\n",
       "    </tr>\n",
       "    <tr>\n",
       "      <th>Functional</th>\n",
       "      <td>2</td>\n",
       "      <td>0.001371</td>\n",
       "    </tr>\n",
       "    <tr>\n",
       "      <th>BsmtFullBath</th>\n",
       "      <td>2</td>\n",
       "      <td>0.001371</td>\n",
       "    </tr>\n",
       "    <tr>\n",
       "      <th>BsmtUnfSF</th>\n",
       "      <td>1</td>\n",
       "      <td>0.000685</td>\n",
       "    </tr>\n",
       "    <tr>\n",
       "      <th>Exterior2nd</th>\n",
       "      <td>1</td>\n",
       "      <td>0.000685</td>\n",
       "    </tr>\n",
       "    <tr>\n",
       "      <th>TotalBsmtSF</th>\n",
       "      <td>1</td>\n",
       "      <td>0.000685</td>\n",
       "    </tr>\n",
       "    <tr>\n",
       "      <th>BsmtFinSF1</th>\n",
       "      <td>1</td>\n",
       "      <td>0.000685</td>\n",
       "    </tr>\n",
       "    <tr>\n",
       "      <th>Exterior1st</th>\n",
       "      <td>1</td>\n",
       "      <td>0.000685</td>\n",
       "    </tr>\n",
       "    <tr>\n",
       "      <th>GarageCars</th>\n",
       "      <td>1</td>\n",
       "      <td>0.000685</td>\n",
       "    </tr>\n",
       "    <tr>\n",
       "      <th>GarageArea</th>\n",
       "      <td>1</td>\n",
       "      <td>0.000685</td>\n",
       "    </tr>\n",
       "  </tbody>\n",
       "</table>\n",
       "</div>"
      ],
      "text/plain": [
       "              Total   Percent\n",
       "LotFrontage     227  0.155586\n",
       "GarageYrBlt      78  0.053461\n",
       "MasVnrArea       15  0.010281\n",
       "MSZoning          4  0.002742\n",
       "Functional        2  0.001371\n",
       "BsmtFullBath      2  0.001371\n",
       "BsmtUnfSF         1  0.000685\n",
       "Exterior2nd       1  0.000685\n",
       "TotalBsmtSF       1  0.000685\n",
       "BsmtFinSF1        1  0.000685\n",
       "Exterior1st       1  0.000685\n",
       "GarageCars        1  0.000685\n",
       "GarageArea        1  0.000685"
      ]
     },
     "execution_count": 15,
     "metadata": {},
     "output_type": "execute_result"
    }
   ],
   "source": [
    "missing_data_test = missing_data_fun(test)\n",
    "missing_data_test"
   ]
  },
  {
   "cell_type": "code",
   "execution_count": 16,
   "metadata": {
    "_uuid": "381eeca8ae0976d75c59e636ae7d2db043dfce2c",
    "scrolled": true
   },
   "outputs": [],
   "source": [
    "def is_missingGarageYrBlt(GarageFinish,GarageYrBlt):    \n",
    "    if pd.isnull(GarageYrBlt) and GarageFinish == 'None':        \n",
    "        return 0\n",
    "    else:\n",
    "        return GarageYrBlt\n",
    "    \n",
    "train['GarageYrBlt'] = train.apply(lambda x: is_missingGarageYrBlt(x['GarageFinish'], x['GarageYrBlt']),axis=1)\n",
    "test['GarageYrBlt'] = test.apply(lambda x: is_missingGarageYrBlt(x['GarageFinish'], x['GarageYrBlt']),axis=1)\n"
   ]
  },
  {
   "cell_type": "code",
   "execution_count": 17,
   "metadata": {
    "_uuid": "4c2693e25b2eaa1d5d93f2505894757f157570c8"
   },
   "outputs": [
    {
     "data": {
      "text/html": [
       "<div>\n",
       "<style scoped>\n",
       "    .dataframe tbody tr th:only-of-type {\n",
       "        vertical-align: middle;\n",
       "    }\n",
       "\n",
       "    .dataframe tbody tr th {\n",
       "        vertical-align: top;\n",
       "    }\n",
       "\n",
       "    .dataframe thead th {\n",
       "        text-align: right;\n",
       "    }\n",
       "</style>\n",
       "<table border=\"1\" class=\"dataframe\">\n",
       "  <thead>\n",
       "    <tr style=\"text-align: right;\">\n",
       "      <th></th>\n",
       "      <th>Total</th>\n",
       "      <th>Percent</th>\n",
       "    </tr>\n",
       "  </thead>\n",
       "  <tbody>\n",
       "    <tr>\n",
       "      <th>LotFrontage</th>\n",
       "      <td>259</td>\n",
       "      <td>0.177397</td>\n",
       "    </tr>\n",
       "    <tr>\n",
       "      <th>MasVnrArea</th>\n",
       "      <td>8</td>\n",
       "      <td>0.005479</td>\n",
       "    </tr>\n",
       "    <tr>\n",
       "      <th>Electrical</th>\n",
       "      <td>1</td>\n",
       "      <td>0.000685</td>\n",
       "    </tr>\n",
       "  </tbody>\n",
       "</table>\n",
       "</div>"
      ],
      "text/plain": [
       "             Total   Percent\n",
       "LotFrontage    259  0.177397\n",
       "MasVnrArea       8  0.005479\n",
       "Electrical       1  0.000685"
      ]
     },
     "execution_count": 17,
     "metadata": {},
     "output_type": "execute_result"
    }
   ],
   "source": [
    "missing_data_train = missing_data_fun(train)\n",
    "missing_data_train"
   ]
  },
  {
   "cell_type": "code",
   "execution_count": 18,
   "metadata": {
    "_uuid": "72987ebf094422db4b256b4601731bd3a25f17a7",
    "scrolled": true
   },
   "outputs": [
    {
     "data": {
      "text/html": [
       "<div>\n",
       "<style scoped>\n",
       "    .dataframe tbody tr th:only-of-type {\n",
       "        vertical-align: middle;\n",
       "    }\n",
       "\n",
       "    .dataframe tbody tr th {\n",
       "        vertical-align: top;\n",
       "    }\n",
       "\n",
       "    .dataframe thead th {\n",
       "        text-align: right;\n",
       "    }\n",
       "</style>\n",
       "<table border=\"1\" class=\"dataframe\">\n",
       "  <thead>\n",
       "    <tr style=\"text-align: right;\">\n",
       "      <th></th>\n",
       "      <th>Total</th>\n",
       "      <th>Percent</th>\n",
       "    </tr>\n",
       "  </thead>\n",
       "  <tbody>\n",
       "    <tr>\n",
       "      <th>LotFrontage</th>\n",
       "      <td>227</td>\n",
       "      <td>0.155586</td>\n",
       "    </tr>\n",
       "    <tr>\n",
       "      <th>MasVnrArea</th>\n",
       "      <td>15</td>\n",
       "      <td>0.010281</td>\n",
       "    </tr>\n",
       "    <tr>\n",
       "      <th>MSZoning</th>\n",
       "      <td>4</td>\n",
       "      <td>0.002742</td>\n",
       "    </tr>\n",
       "    <tr>\n",
       "      <th>Functional</th>\n",
       "      <td>2</td>\n",
       "      <td>0.001371</td>\n",
       "    </tr>\n",
       "    <tr>\n",
       "      <th>BsmtFullBath</th>\n",
       "      <td>2</td>\n",
       "      <td>0.001371</td>\n",
       "    </tr>\n",
       "    <tr>\n",
       "      <th>BsmtUnfSF</th>\n",
       "      <td>1</td>\n",
       "      <td>0.000685</td>\n",
       "    </tr>\n",
       "    <tr>\n",
       "      <th>TotalBsmtSF</th>\n",
       "      <td>1</td>\n",
       "      <td>0.000685</td>\n",
       "    </tr>\n",
       "    <tr>\n",
       "      <th>BsmtFinSF1</th>\n",
       "      <td>1</td>\n",
       "      <td>0.000685</td>\n",
       "    </tr>\n",
       "    <tr>\n",
       "      <th>Exterior1st</th>\n",
       "      <td>1</td>\n",
       "      <td>0.000685</td>\n",
       "    </tr>\n",
       "    <tr>\n",
       "      <th>Exterior2nd</th>\n",
       "      <td>1</td>\n",
       "      <td>0.000685</td>\n",
       "    </tr>\n",
       "    <tr>\n",
       "      <th>GarageCars</th>\n",
       "      <td>1</td>\n",
       "      <td>0.000685</td>\n",
       "    </tr>\n",
       "    <tr>\n",
       "      <th>GarageArea</th>\n",
       "      <td>1</td>\n",
       "      <td>0.000685</td>\n",
       "    </tr>\n",
       "  </tbody>\n",
       "</table>\n",
       "</div>"
      ],
      "text/plain": [
       "              Total   Percent\n",
       "LotFrontage     227  0.155586\n",
       "MasVnrArea       15  0.010281\n",
       "MSZoning          4  0.002742\n",
       "Functional        2  0.001371\n",
       "BsmtFullBath      2  0.001371\n",
       "BsmtUnfSF         1  0.000685\n",
       "TotalBsmtSF       1  0.000685\n",
       "BsmtFinSF1        1  0.000685\n",
       "Exterior1st       1  0.000685\n",
       "Exterior2nd       1  0.000685\n",
       "GarageCars        1  0.000685\n",
       "GarageArea        1  0.000685"
      ]
     },
     "execution_count": 18,
     "metadata": {},
     "output_type": "execute_result"
    }
   ],
   "source": [
    "missing_data_test = missing_data_fun(test)\n",
    "missing_data_test"
   ]
  },
  {
   "cell_type": "code",
   "execution_count": 19,
   "metadata": {
    "_uuid": "3c4bfd5ffd750a30d89c2ea071a20bc3055da2e8",
    "scrolled": false
   },
   "outputs": [
    {
     "data": {
      "text/plain": [
       "<matplotlib.axes._subplots.AxesSubplot at 0x1a12af5710>"
      ]
     },
     "execution_count": 19,
     "metadata": {},
     "output_type": "execute_result"
    },
    {
     "data": {
      "image/png": "[encoded data removed]",
      "text/plain": [
       "<Figure size 432x288 with 1 Axes>"
      ]
     },
     "metadata": {},
     "output_type": "display_data"
    }
   ],
   "source": [
    "train['LotFrontage'].groupby(train['Neighborhood']).median().plot()\n",
    "train['LotFrontage'].groupby(train['Neighborhood']).mean().plot()\n",
    "#test['LotFrontage'].groupby(test[\"Neighborhood\"]).median().plot()\n",
    "#test['LotFrontage'].groupby(test[\"Neighborhood\"]).mean().plot()\n"
   ]
  },
  {
   "cell_type": "code",
   "execution_count": 20,
   "metadata": {
    "_uuid": "3b7b827b7e00bfe3243efe4484994ea617b0be62"
   },
   "outputs": [],
   "source": [
    "train['LotFrontage'].fillna(train.groupby('Neighborhood')['LotFrontage'].transform('median'), inplace=True)\n",
    "test['LotFrontage'].fillna(test.groupby('Neighborhood')['LotFrontage'].transform('median'), inplace=True)\n"
   ]
  },
  {
   "cell_type": "code",
   "execution_count": 21,
   "metadata": {
    "_uuid": "490701a5eecb232f855c9921f2f39ae2623addf1"
   },
   "outputs": [
    {
     "data": {
      "text/html": [
       "<div>\n",
       "<style scoped>\n",
       "    .dataframe tbody tr th:only-of-type {\n",
       "        vertical-align: middle;\n",
       "    }\n",
       "\n",
       "    .dataframe tbody tr th {\n",
       "        vertical-align: top;\n",
       "    }\n",
       "\n",
       "    .dataframe thead th {\n",
       "        text-align: right;\n",
       "    }\n",
       "</style>\n",
       "<table border=\"1\" class=\"dataframe\">\n",
       "  <thead>\n",
       "    <tr style=\"text-align: right;\">\n",
       "      <th></th>\n",
       "      <th>Total</th>\n",
       "      <th>Percent</th>\n",
       "    </tr>\n",
       "  </thead>\n",
       "  <tbody>\n",
       "    <tr>\n",
       "      <th>MasVnrArea</th>\n",
       "      <td>8</td>\n",
       "      <td>0.005479</td>\n",
       "    </tr>\n",
       "    <tr>\n",
       "      <th>Electrical</th>\n",
       "      <td>1</td>\n",
       "      <td>0.000685</td>\n",
       "    </tr>\n",
       "  </tbody>\n",
       "</table>\n",
       "</div>"
      ],
      "text/plain": [
       "            Total   Percent\n",
       "MasVnrArea      8  0.005479\n",
       "Electrical      1  0.000685"
      ]
     },
     "execution_count": 21,
     "metadata": {},
     "output_type": "execute_result"
    }
   ],
   "source": [
    "missing_data_train = missing_data_fun(train)\n",
    "missing_data_train"
   ]
  },
  {
   "cell_type": "code",
   "execution_count": 22,
   "metadata": {
    "_uuid": "6567cc809f5aadb516b64a0baac301b3e8d8cc89",
    "scrolled": true
   },
   "outputs": [
    {
     "data": {
      "text/html": [
       "<div>\n",
       "<style scoped>\n",
       "    .dataframe tbody tr th:only-of-type {\n",
       "        vertical-align: middle;\n",
       "    }\n",
       "\n",
       "    .dataframe tbody tr th {\n",
       "        vertical-align: top;\n",
       "    }\n",
       "\n",
       "    .dataframe thead th {\n",
       "        text-align: right;\n",
       "    }\n",
       "</style>\n",
       "<table border=\"1\" class=\"dataframe\">\n",
       "  <thead>\n",
       "    <tr style=\"text-align: right;\">\n",
       "      <th></th>\n",
       "      <th>Total</th>\n",
       "      <th>Percent</th>\n",
       "    </tr>\n",
       "  </thead>\n",
       "  <tbody>\n",
       "    <tr>\n",
       "      <th>MasVnrArea</th>\n",
       "      <td>15</td>\n",
       "      <td>0.010281</td>\n",
       "    </tr>\n",
       "    <tr>\n",
       "      <th>MSZoning</th>\n",
       "      <td>4</td>\n",
       "      <td>0.002742</td>\n",
       "    </tr>\n",
       "    <tr>\n",
       "      <th>Functional</th>\n",
       "      <td>2</td>\n",
       "      <td>0.001371</td>\n",
       "    </tr>\n",
       "    <tr>\n",
       "      <th>BsmtFullBath</th>\n",
       "      <td>2</td>\n",
       "      <td>0.001371</td>\n",
       "    </tr>\n",
       "    <tr>\n",
       "      <th>Exterior1st</th>\n",
       "      <td>1</td>\n",
       "      <td>0.000685</td>\n",
       "    </tr>\n",
       "    <tr>\n",
       "      <th>GarageCars</th>\n",
       "      <td>1</td>\n",
       "      <td>0.000685</td>\n",
       "    </tr>\n",
       "    <tr>\n",
       "      <th>GarageArea</th>\n",
       "      <td>1</td>\n",
       "      <td>0.000685</td>\n",
       "    </tr>\n",
       "    <tr>\n",
       "      <th>Exterior2nd</th>\n",
       "      <td>1</td>\n",
       "      <td>0.000685</td>\n",
       "    </tr>\n",
       "    <tr>\n",
       "      <th>BsmtUnfSF</th>\n",
       "      <td>1</td>\n",
       "      <td>0.000685</td>\n",
       "    </tr>\n",
       "    <tr>\n",
       "      <th>BsmtFinSF1</th>\n",
       "      <td>1</td>\n",
       "      <td>0.000685</td>\n",
       "    </tr>\n",
       "    <tr>\n",
       "      <th>TotalBsmtSF</th>\n",
       "      <td>1</td>\n",
       "      <td>0.000685</td>\n",
       "    </tr>\n",
       "  </tbody>\n",
       "</table>\n",
       "</div>"
      ],
      "text/plain": [
       "              Total   Percent\n",
       "MasVnrArea       15  0.010281\n",
       "MSZoning          4  0.002742\n",
       "Functional        2  0.001371\n",
       "BsmtFullBath      2  0.001371\n",
       "Exterior1st       1  0.000685\n",
       "GarageCars        1  0.000685\n",
       "GarageArea        1  0.000685\n",
       "Exterior2nd       1  0.000685\n",
       "BsmtUnfSF         1  0.000685\n",
       "BsmtFinSF1        1  0.000685\n",
       "TotalBsmtSF       1  0.000685"
      ]
     },
     "execution_count": 22,
     "metadata": {},
     "output_type": "execute_result"
    }
   ],
   "source": [
    "missing_data_test = missing_data_fun(test)\n",
    "missing_data_test"
   ]
  },
  {
   "cell_type": "code",
   "execution_count": 23,
   "metadata": {
    "_uuid": "2fe7a8ad68a816a73dfa9689dad27c721eaa58f3"
   },
   "outputs": [],
   "source": [
    "#train[train.MasVnrArea.isnull()].loc[:, ['MasVnrType', 'MasVnrArea']]\n",
    "#test[test.MasVnrArea.isnull()].loc[:, ['MasVnrType', 'MasVnrArea']]\n",
    "\n",
    "def is_missingMasVnrArea(MasVnrType,MasVnrArea):    \n",
    "    if pd.isnull(MasVnrArea) and MasVnrType == 'None':        \n",
    "        return 0\n",
    "    else:\n",
    "        return MasVnrArea\n",
    "    \n",
    "train['MasVnrArea'] = train.apply(lambda x: is_missingGarageYrBlt(x['MasVnrType'], x['MasVnrArea']),axis=1)\n",
    "test['MasVnrArea'] = test.apply(lambda x: is_missingGarageYrBlt(x['MasVnrType'], x['MasVnrArea']),axis=1)\n"
   ]
  },
  {
   "cell_type": "code",
   "execution_count": 24,
   "metadata": {
    "_uuid": "ba9255d4abd3b2625b634f6ab0440379e713ee30"
   },
   "outputs": [
    {
     "data": {
      "text/plain": [
       "<matplotlib.axes._subplots.AxesSubplot at 0x1a12b42630>"
      ]
     },
     "execution_count": 24,
     "metadata": {},
     "output_type": "execute_result"
    },
    {
     "data": {
      "image/png": "[encoded data removed]",
      "text/plain": [
       "<Figure size 432x288 with 1 Axes>"
      ]
     },
     "metadata": {},
     "output_type": "display_data"
    }
   ],
   "source": [
    "sns.countplot(train['Electrical'])"
   ]
  },
  {
   "cell_type": "code",
   "execution_count": 25,
   "metadata": {
    "_uuid": "0e37b0be72f0167c4ea5b3a2fd39dee8d7930c4d"
   },
   "outputs": [
    {
     "data": {
      "text/plain": [
       "<matplotlib.axes._subplots.AxesSubplot at 0x1a168a62b0>"
      ]
     },
     "execution_count": 25,
     "metadata": {},
     "output_type": "execute_result"
    },
    {
     "data": {
      "image/png": "[encoded data removed]",
      "text/plain": [
       "<Figure size 432x288 with 1 Axes>"
      ]
     },
     "metadata": {},
     "output_type": "display_data"
    }
   ],
   "source": [
    "sns.countplot(test['Electrical'])"
   ]
  },
  {
   "cell_type": "code",
   "execution_count": 26,
   "metadata": {
    "_uuid": "289a54d989e45932b5f1203edd5d4794b6692fb2"
   },
   "outputs": [],
   "source": [
    "train.Electrical.fillna('SBrkr',inplace=True)\n",
    "test.Electrical.fillna('SBrkr',inplace=True)\n",
    "\n",
    "train.Functional.fillna('Typ',inplace=True)\n",
    "test.Functional.fillna('Typ',inplace=True)\n",
    "\n",
    "train.BsmtFullBath.fillna(0,inplace=True)\n",
    "test.BsmtFullBath.fillna(0,inplace=True)\n",
    "\n",
    "train.BsmtHalfBath.fillna(0,inplace=True)\n",
    "test.BsmtHalfBath.fillna(0,inplace=True)\n",
    "\n",
    "train.BsmtUnfSF.fillna(0,inplace=True)\n",
    "test.BsmtUnfSF.fillna(0,inplace=True)\n",
    "\n",
    "train.TotalBsmtSF.fillna(0,inplace=True)\n",
    "test.TotalBsmtSF.fillna(0,inplace=True)\n",
    "\n",
    "train.BsmtFinSF1.fillna(0,inplace=True)\n",
    "test.BsmtFinSF1.fillna(0,inplace=True)\n",
    "\n",
    "train.BsmtFinSF2.fillna(0,inplace=True)\n",
    "test.BsmtFinSF2.fillna(0,inplace=True)\n",
    "\n",
    "train.GarageCars.fillna(0,inplace=True)\n",
    "test.GarageCars.fillna(0,inplace=True)\n",
    "\n",
    "train.GarageArea.fillna(0,inplace=True)\n",
    "test.GarageArea.fillna(0,inplace=True)\n"
   ]
  },
  {
   "cell_type": "code",
   "execution_count": 27,
   "metadata": {},
   "outputs": [
    {
     "data": {
      "text/plain": [
       "<matplotlib.axes._subplots.AxesSubplot at 0x1a16858cc0>"
      ]
     },
     "execution_count": 27,
     "metadata": {},
     "output_type": "execute_result"
    },
    {
     "data": {
      "image/png": "[encoded data removed]",
      "text/plain": [
       "<Figure size 432x288 with 1 Axes>"
      ]
     },
     "metadata": {},
     "output_type": "display_data"
    }
   ],
   "source": [
    "plt.xticks(rotation =70)\n",
    "sns.countplot(train['Exterior1st'])\n",
    "#sns.countplot(test['Exterior1st'])\n"
   ]
  },
  {
   "cell_type": "code",
   "execution_count": 28,
   "metadata": {},
   "outputs": [
    {
     "data": {
      "text/plain": [
       "<matplotlib.axes._subplots.AxesSubplot at 0x1a12c0fc18>"
      ]
     },
     "execution_count": 28,
     "metadata": {},
     "output_type": "execute_result"
    },
    {
     "data": {
      "image/png": "[encoded data removed]",
      "text/plain": [
       "<Figure size 432x288 with 1 Axes>"
      ]
     },
     "metadata": {},
     "output_type": "display_data"
    }
   ],
   "source": [
    "plt.xticks(rotation =70)\n",
    "sns.countplot(train['Exterior2nd'])"
   ]
  },
  {
   "cell_type": "code",
   "execution_count": 29,
   "metadata": {},
   "outputs": [],
   "source": [
    "train.Exterior1st.fillna('VinylSd',inplace=True)\n",
    "test.Exterior1st.fillna('VinylSd',inplace=True)\n",
    "\n",
    "train.Exterior2nd.fillna('VinylSd',inplace=True)\n",
    "test.Exterior2nd.fillna('VinylSd',inplace=True)"
   ]
  },
  {
   "cell_type": "code",
   "execution_count": 30,
   "metadata": {},
   "outputs": [
    {
     "data": {
      "text/plain": [
       "<matplotlib.axes._subplots.AxesSubplot at 0x1a16b284a8>"
      ]
     },
     "execution_count": 30,
     "metadata": {},
     "output_type": "execute_result"
    },
    {
     "data": {
      "image/png": "[encoded data removed]",
      "text/plain": [
       "<Figure size 432x288 with 1 Axes>"
      ]
     },
     "metadata": {},
     "output_type": "display_data"
    }
   ],
   "source": [
    "plt.xticks(rotation =70)\n",
    "sns.countplot(train['MSZoning'])"
   ]
  },
  {
   "cell_type": "code",
   "execution_count": 31,
   "metadata": {
    "scrolled": true
   },
   "outputs": [
    {
     "data": {
      "text/plain": [
       "<matplotlib.axes._subplots.AxesSubplot at 0x1a16bda080>"
      ]
     },
     "execution_count": 31,
     "metadata": {},
     "output_type": "execute_result"
    },
    {
     "data": {
      "image/png": "[encoded data removed]",
      "text/plain": [
       "<Figure size 432x288 with 1 Axes>"
      ]
     },
     "metadata": {},
     "output_type": "display_data"
    }
   ],
   "source": [
    "plt.xticks(rotation =70)\n",
    "sns.countplot(test['MSZoning'])"
   ]
  },
  {
   "cell_type": "code",
   "execution_count": 32,
   "metadata": {},
   "outputs": [],
   "source": [
    "train.MSZoning.fillna('RL',inplace=True)\n",
    "test.MSZoning.fillna('RL',inplace=True)"
   ]
  },
  {
   "cell_type": "code",
   "execution_count": 33,
   "metadata": {
    "_uuid": "14354dd22da7f87614b03dd73de6dafe0d0d241f"
   },
   "outputs": [
    {
     "data": {
      "text/html": [
       "<div>\n",
       "<style scoped>\n",
       "    .dataframe tbody tr th:only-of-type {\n",
       "        vertical-align: middle;\n",
       "    }\n",
       "\n",
       "    .dataframe tbody tr th {\n",
       "        vertical-align: top;\n",
       "    }\n",
       "\n",
       "    .dataframe thead th {\n",
       "        text-align: right;\n",
       "    }\n",
       "</style>\n",
       "<table border=\"1\" class=\"dataframe\">\n",
       "  <thead>\n",
       "    <tr style=\"text-align: right;\">\n",
       "      <th></th>\n",
       "      <th>Total</th>\n",
       "      <th>Percent</th>\n",
       "    </tr>\n",
       "  </thead>\n",
       "  <tbody>\n",
       "  </tbody>\n",
       "</table>\n",
       "</div>"
      ],
      "text/plain": [
       "Empty DataFrame\n",
       "Columns: [Total, Percent]\n",
       "Index: []"
      ]
     },
     "execution_count": 33,
     "metadata": {},
     "output_type": "execute_result"
    }
   ],
   "source": [
    "missing_data_train = missing_data_fun(train)\n",
    "missing_data_train"
   ]
  },
  {
   "cell_type": "code",
   "execution_count": 34,
   "metadata": {
    "_uuid": "585d34db8069e4902ea569fb939d83cdb3690ecf"
   },
   "outputs": [
    {
     "data": {
      "text/html": [
       "<div>\n",
       "<style scoped>\n",
       "    .dataframe tbody tr th:only-of-type {\n",
       "        vertical-align: middle;\n",
       "    }\n",
       "\n",
       "    .dataframe tbody tr th {\n",
       "        vertical-align: top;\n",
       "    }\n",
       "\n",
       "    .dataframe thead th {\n",
       "        text-align: right;\n",
       "    }\n",
       "</style>\n",
       "<table border=\"1\" class=\"dataframe\">\n",
       "  <thead>\n",
       "    <tr style=\"text-align: right;\">\n",
       "      <th></th>\n",
       "      <th>Total</th>\n",
       "      <th>Percent</th>\n",
       "    </tr>\n",
       "  </thead>\n",
       "  <tbody>\n",
       "  </tbody>\n",
       "</table>\n",
       "</div>"
      ],
      "text/plain": [
       "Empty DataFrame\n",
       "Columns: [Total, Percent]\n",
       "Index: []"
      ]
     },
     "execution_count": 34,
     "metadata": {},
     "output_type": "execute_result"
    }
   ],
   "source": [
    "missing_data_test = missing_data_fun(test)\n",
    "missing_data_test"
   ]
  },
  {
   "cell_type": "code",
   "execution_count": 35,
   "metadata": {},
   "outputs": [],
   "source": [
    "#train.MSSubClass.head()"
   ]
  },
  {
   "cell_type": "code",
   "execution_count": 36,
   "metadata": {},
   "outputs": [],
   "source": [
    "#train.MSSubClass.unique()"
   ]
  },
  {
   "cell_type": "code",
   "execution_count": 37,
   "metadata": {
    "_uuid": "0c511600838529796422bb86341601f8dc100e72"
   },
   "outputs": [],
   "source": [
    "'''\n",
    "Change to categorical cariable.\n",
    "ExterQual, ExterCond, BsmtQual, BsmtCond, BsmtExposure,\n",
    "BsmtFinType1,BsmtFinType2, HeatingQC, KitchenQual, \n",
    "FireplaceQu, GarageQual, GarageCond, PoolQC\n",
    "\n",
    "MoSold, GarageYrBlt, MSSubClass\n",
    "\n",
    "'''\n",
    "def CategoricalData(df):\n",
    "    #Categorical factors that should be numeric\n",
    "    df.ExterQual = df.ExterQual.map({'None': 0,'Po':1,'Fa':2, 'TA':3, 'Gd':4, 'Ex':5})\n",
    "    df.ExterCond = df.ExterCond.map({'None': 0,'Po':1,'Fa':2, 'TA':3, 'Gd':4, 'Ex':5})\n",
    "    df.BsmtQual = df.BsmtQual.map({'None': 0,'NA':0,'Po':1,'Fa':2, 'TA':3, 'Gd':4, 'Ex':5})\n",
    "    df.BsmtCond = df.BsmtCond.map({'None': 0,'NA':0,'Po':1,'Fa':2, 'TA':3, 'Gd':4, 'Ex':5})\n",
    "    df.BsmtExposure = df.BsmtExposure.map({'None': 0,'NA':0,'No':1,'Mn':2, 'Av':3, 'Gd':4})\n",
    "    df.BsmtFinType1 = df.BsmtFinType1.map({'None': 0,'NA':0,'Unf':1,'LwQ':2, 'Rec':3, 'BLQ':4, 'ALQ':5,'GLQ':6})\n",
    "    df.BsmtFinType2 = df.BsmtFinType2.map({'None': 0,'NA':0,'Unf':1,'LwQ':2, 'Rec':3, 'BLQ':4, 'ALQ':5,'GLQ':6})\n",
    "    df.HeatingQC = df.HeatingQC.map({'None': 0,'Po':1,'Fa':2, 'TA':3, 'Gd':4, 'Ex':5})\n",
    "    df.KitchenQual = df.KitchenQual.map({'None': 0,'Po':1,'Fa':2, 'TA':3, 'Gd':4, 'Ex':5})\n",
    "    df.FireplaceQu = df.FireplaceQu.map({'None': 0,'NA':0,'Po':1,'Fa':2, 'TA':3, 'Gd':4, 'Ex':5})\n",
    "    df.GarageQual = df.GarageQual.map({'None': 0,'NA':0,'Po':1,'Fa':2, 'TA':3, 'Gd':4, 'Ex':5})\n",
    "    df.GarageCond = df.GarageCond.map({'None': 0,'NA':0,'Po':1,'Fa':2, 'TA':3, 'Gd':4, 'Ex':5})\n",
    "    df.PoolQC = df.PoolQC.map({'None': 0,'NA':0,'Fa':1,'TA':2, 'Gd':3, 'Ex':4})\n",
    "    df.CentralAir = df.CentralAir.map({'N':0 , 'Y':1})\n",
    "    \n",
    "    return df"
   ]
  },
  {
   "cell_type": "code",
   "execution_count": 38,
   "metadata": {
    "scrolled": true
   },
   "outputs": [],
   "source": [
    "train = CategoricalData(train)\n",
    "test = CategoricalData(test)"
   ]
  },
  {
   "cell_type": "code",
   "execution_count": 39,
   "metadata": {},
   "outputs": [],
   "source": [
    "#train['BsmtQual'].head()"
   ]
  },
  {
   "cell_type": "code",
   "execution_count": 40,
   "metadata": {
    "_uuid": "87f4e2294e09949700e98ab12983afe5317ab149"
   },
   "outputs": [
    {
     "data": {
      "text/html": [
       "<div>\n",
       "<style scoped>\n",
       "    .dataframe tbody tr th:only-of-type {\n",
       "        vertical-align: middle;\n",
       "    }\n",
       "\n",
       "    .dataframe tbody tr th {\n",
       "        vertical-align: top;\n",
       "    }\n",
       "\n",
       "    .dataframe thead th {\n",
       "        text-align: right;\n",
       "    }\n",
       "</style>\n",
       "<table border=\"1\" class=\"dataframe\">\n",
       "  <thead>\n",
       "    <tr style=\"text-align: right;\">\n",
       "      <th></th>\n",
       "      <th>count</th>\n",
       "      <th>mean</th>\n",
       "    </tr>\n",
       "    <tr>\n",
       "      <th>MoSold</th>\n",
       "      <th></th>\n",
       "      <th></th>\n",
       "    </tr>\n",
       "  </thead>\n",
       "  <tbody>\n",
       "    <tr>\n",
       "      <th>1</th>\n",
       "      <td>58</td>\n",
       "      <td>183256.258621</td>\n",
       "    </tr>\n",
       "    <tr>\n",
       "      <th>2</th>\n",
       "      <td>52</td>\n",
       "      <td>177882.000000</td>\n",
       "    </tr>\n",
       "    <tr>\n",
       "      <th>3</th>\n",
       "      <td>106</td>\n",
       "      <td>183253.924528</td>\n",
       "    </tr>\n",
       "    <tr>\n",
       "      <th>4</th>\n",
       "      <td>141</td>\n",
       "      <td>171503.262411</td>\n",
       "    </tr>\n",
       "    <tr>\n",
       "      <th>5</th>\n",
       "      <td>204</td>\n",
       "      <td>172307.269608</td>\n",
       "    </tr>\n",
       "    <tr>\n",
       "      <th>6</th>\n",
       "      <td>253</td>\n",
       "      <td>177395.735178</td>\n",
       "    </tr>\n",
       "    <tr>\n",
       "      <th>7</th>\n",
       "      <td>234</td>\n",
       "      <td>186331.192308</td>\n",
       "    </tr>\n",
       "    <tr>\n",
       "      <th>8</th>\n",
       "      <td>122</td>\n",
       "      <td>184651.827869</td>\n",
       "    </tr>\n",
       "    <tr>\n",
       "      <th>9</th>\n",
       "      <td>63</td>\n",
       "      <td>195683.206349</td>\n",
       "    </tr>\n",
       "    <tr>\n",
       "      <th>10</th>\n",
       "      <td>89</td>\n",
       "      <td>179563.977528</td>\n",
       "    </tr>\n",
       "    <tr>\n",
       "      <th>11</th>\n",
       "      <td>79</td>\n",
       "      <td>192210.911392</td>\n",
       "    </tr>\n",
       "    <tr>\n",
       "      <th>12</th>\n",
       "      <td>59</td>\n",
       "      <td>186518.966102</td>\n",
       "    </tr>\n",
       "  </tbody>\n",
       "</table>\n",
       "</div>"
      ],
      "text/plain": [
       "        count           mean\n",
       "MoSold                      \n",
       "1          58  183256.258621\n",
       "2          52  177882.000000\n",
       "3         106  183253.924528\n",
       "4         141  171503.262411\n",
       "5         204  172307.269608\n",
       "6         253  177395.735178\n",
       "7         234  186331.192308\n",
       "8         122  184651.827869\n",
       "9          63  195683.206349\n",
       "10         89  179563.977528\n",
       "11         79  192210.911392\n",
       "12         59  186518.966102"
      ]
     },
     "execution_count": 40,
     "metadata": {},
     "output_type": "execute_result"
    }
   ],
   "source": [
    "#train.loc[:,'MoSold']\n",
    "train.groupby('MoSold').SalePrice.agg(['count','mean'])"
   ]
  },
  {
   "cell_type": "code",
   "execution_count": 41,
   "metadata": {},
   "outputs": [
    {
     "data": {
      "text/plain": [
       "<matplotlib.axes._subplots.AxesSubplot at 0x1a16d67780>"
      ]
     },
     "execution_count": 41,
     "metadata": {},
     "output_type": "execute_result"
    },
    {
     "data": {
      "image/png": "[encoded data removed]",
      "text/plain": [
       "<Figure size 432x288 with 1 Axes>"
      ]
     },
     "metadata": {},
     "output_type": "display_data"
    }
   ],
   "source": [
    "#sns.set(style=\"darkgrid\")\n",
    "\n",
    "#sns.lineplot(data = temp)\n",
    "\n",
    "train['SalePrice'].groupby(train['MoSold']).agg('mean').plot()"
   ]
  },
  {
   "cell_type": "code",
   "execution_count": 42,
   "metadata": {},
   "outputs": [
    {
     "data": {
      "text/plain": [
       "<matplotlib.axes._subplots.AxesSubplot at 0x1a16d94160>"
      ]
     },
     "execution_count": 42,
     "metadata": {},
     "output_type": "execute_result"
    },
    {
     "data": {
      "image/png": "[encoded data removed]",
      "text/plain": [
       "<Figure size 432x288 with 1 Axes>"
      ]
     },
     "metadata": {},
     "output_type": "display_data"
    }
   ],
   "source": [
    "train['SalePrice'].groupby(train['MoSold']).agg('count').plot()"
   ]
  },
  {
   "cell_type": "code",
   "execution_count": 43,
   "metadata": {},
   "outputs": [],
   "source": [
    "#Count and Saleprice are inversery proportional\n",
    "sale_price_month = train['SalePrice'].groupby(train['MoSold']).mean().to_dict()\n",
    "train[\"MonthlyMeanPrice\"] = train[\"MoSold\"].replace(sale_price_month)\n",
    "test[\"MonthlyMeanPrice\"] = test[\"MoSold\"].replace(sale_price_month)"
   ]
  },
  {
   "cell_type": "code",
   "execution_count": 44,
   "metadata": {},
   "outputs": [],
   "source": [
    "#month is int, convert it to String\n",
    "sale_month = {\"1\": 0, \"2\": 0, \"3\": 0, \"4\": 0, \"5\": 0, \"6\": 0, \"7\": 0, \"8\": 0, \"9\": 0, \"10\": 0, \"11\": 0, \"12\": 0}\n",
    "\n",
    "#train['MoSold'].dtype\n",
    "for m in train['MoSold'].values:\n",
    "    sale_month[str(m)] = sale_month[str(m)] + 1\n",
    "train['MoSold'] = train['MoSold'].map(lambda m : str(m))\n",
    "train[\"MonthlyCount\"] = train[\"MoSold\"].replace(sale_month)\n"
   ]
  },
  {
   "cell_type": "code",
   "execution_count": 45,
   "metadata": {},
   "outputs": [],
   "source": [
    "sale_month = {\"1\": 0, \"2\": 0, \"3\": 0, \"4\": 0, \"5\": 0, \"6\": 0, \"7\": 0, \"8\": 0, \"9\": 0, \"10\": 0, \"11\": 0, \"12\": 0}\n",
    "\n",
    "for m in test['MoSold'].values:\n",
    "    sale_month[str(m)] = sale_month[str(m)] + 1\n",
    "test['MoSold'] = test['MoSold'].map(lambda m : str(m))\n",
    "test[\"MonthlyCount\"] = test[\"MoSold\"].replace(sale_month)"
   ]
  },
  {
   "cell_type": "code",
   "execution_count": 46,
   "metadata": {},
   "outputs": [
    {
     "data": {
      "text/html": [
       "<div>\n",
       "<style scoped>\n",
       "    .dataframe tbody tr th:only-of-type {\n",
       "        vertical-align: middle;\n",
       "    }\n",
       "\n",
       "    .dataframe tbody tr th {\n",
       "        vertical-align: top;\n",
       "    }\n",
       "\n",
       "    .dataframe thead th {\n",
       "        text-align: right;\n",
       "    }\n",
       "</style>\n",
       "<table border=\"1\" class=\"dataframe\">\n",
       "  <thead>\n",
       "    <tr style=\"text-align: right;\">\n",
       "      <th></th>\n",
       "      <th>GarageYrBlt</th>\n",
       "      <th>YearBuilt</th>\n",
       "      <th>YearRemodAdd</th>\n",
       "      <th>YrSold</th>\n",
       "    </tr>\n",
       "  </thead>\n",
       "  <tbody>\n",
       "    <tr>\n",
       "      <th>0</th>\n",
       "      <td>1961.0</td>\n",
       "      <td>1961</td>\n",
       "      <td>1961</td>\n",
       "      <td>2010</td>\n",
       "    </tr>\n",
       "    <tr>\n",
       "      <th>1</th>\n",
       "      <td>1958.0</td>\n",
       "      <td>1958</td>\n",
       "      <td>1958</td>\n",
       "      <td>2010</td>\n",
       "    </tr>\n",
       "    <tr>\n",
       "      <th>2</th>\n",
       "      <td>1997.0</td>\n",
       "      <td>1997</td>\n",
       "      <td>1998</td>\n",
       "      <td>2010</td>\n",
       "    </tr>\n",
       "    <tr>\n",
       "      <th>3</th>\n",
       "      <td>1998.0</td>\n",
       "      <td>1998</td>\n",
       "      <td>1998</td>\n",
       "      <td>2010</td>\n",
       "    </tr>\n",
       "    <tr>\n",
       "      <th>4</th>\n",
       "      <td>1992.0</td>\n",
       "      <td>1992</td>\n",
       "      <td>1992</td>\n",
       "      <td>2010</td>\n",
       "    </tr>\n",
       "  </tbody>\n",
       "</table>\n",
       "</div>"
      ],
      "text/plain": [
       "   GarageYrBlt  YearBuilt  YearRemodAdd  YrSold\n",
       "0       1961.0       1961          1961    2010\n",
       "1       1958.0       1958          1958    2010\n",
       "2       1997.0       1997          1998    2010\n",
       "3       1998.0       1998          1998    2010\n",
       "4       1992.0       1992          1992    2010"
      ]
     },
     "execution_count": 46,
     "metadata": {},
     "output_type": "execute_result"
    }
   ],
   "source": [
    "test.loc[:,['GarageYrBlt','YearBuilt', 'YearRemodAdd', 'YrSold']].head()\n"
   ]
  },
  {
   "cell_type": "code",
   "execution_count": 47,
   "metadata": {
    "scrolled": true
   },
   "outputs": [
    {
     "data": {
      "text/plain": [
       "0.8348123731631015"
      ]
     },
     "execution_count": 47,
     "metadata": {},
     "output_type": "execute_result"
    }
   ],
   "source": [
    "train_built_year_data = pd.DataFrame(train[['YearBuilt', 'GarageYrBlt']].loc[train.GarageYrBlt != 0,:])\n",
    "test_built_year_data =  pd.DataFrame(test[['YearBuilt', 'GarageYrBlt']].loc[test.GarageYrBlt != 0,:])\n",
    "\n",
    "built_year_data = pd.concat([train_built_year_data.loc[:, :], test_built_year_data])\n",
    "built_year_data['GarageYrBlt'] = built_year_data['GarageYrBlt'].map(lambda g : int(g))\n",
    "built_year_data['GarageYrBlt'].corr(built_year_data['YearBuilt'])\n",
    "\n",
    "#High Correralation b/w GarageYrBlt & YearBuilt"
   ]
  },
  {
   "cell_type": "code",
   "execution_count": 48,
   "metadata": {},
   "outputs": [
    {
     "data": {
      "text/plain": [
       "[<matplotlib.lines.Line2D at 0x1a16fecb38>]"
      ]
     },
     "execution_count": 48,
     "metadata": {},
     "output_type": "execute_result"
    },
    {
     "data": {
      "image/png": "[encoded data removed]",
      "text/plain": [
       "<Figure size 432x288 with 1 Axes>"
      ]
     },
     "metadata": {},
     "output_type": "display_data"
    }
   ],
   "source": [
    "from sklearn.linear_model import LinearRegression\n",
    "regr = LinearRegression()\n",
    "garage_year = built_year_data.loc[:,'GarageYrBlt'].values\n",
    "built_year = built_year_data.loc[:,'YearBuilt'].values\n",
    "\n",
    "length = garage_year.shape[0]\n",
    "garage_year = garage_year.reshape(length, 1)\n",
    "built_year = built_year.reshape(length, 1)\n",
    "\n",
    "# Train the model using the training sets\n",
    "regr.fit(built_year, garage_year)\n",
    "plt.scatter(built_year, garage_year,  color='blue')\n",
    "plt.plot(built_year, regr.predict(built_year), color='red',\n",
    "         linewidth=3)"
   ]
  },
  {
   "cell_type": "code",
   "execution_count": 49,
   "metadata": {},
   "outputs": [],
   "source": [
    "train['GarageYrBlt'] = train.apply(lambda row : int(regr.predict(row['YearBuilt']))\n",
    "                                                      if row['GarageYrBlt'] == 'NA' else int(row['GarageYrBlt']),\n",
    "                                                       axis=1)\n",
    "test['GarageYrBlt'] = test.apply(lambda row : int(regr.predict(row['YearBuilt']))\n",
    "                                                      if row['GarageYrBlt'] == 'NA' else int(row['GarageYrBlt']),\n",
    "                                                       axis=1)"
   ]
  },
  {
   "cell_type": "code",
   "execution_count": 50,
   "metadata": {},
   "outputs": [],
   "source": [
    "#Remodeling attribute\n",
    "train['RemodYears'] = train.YearRemodAdd - train.YearBuilt\n",
    "train['isRemodeled'] = (train.YearRemodAdd != train.YearBuilt) * 1\n",
    "train[\"isRecentRemodel\"] = (train.YearRemodAdd == train.YrSold) * 1\n",
    "\n",
    "test['RemodYears'] = test.YearRemodAdd - test.YearBuilt\n",
    "test['isRemodeled'] = (test.YearRemodAdd != test.YearBuilt) * 1\n",
    "test['isRecentRemodel'] = (test.YearRemodAdd == test.YrSold) * 1\n",
    "\n",
    "#train.loc[:,['YearRemodAdd','YearBuilt', 'RemodYears', 'isRemodeled', 'isRecentRemodel']]"
   ]
  },
  {
   "cell_type": "code",
   "execution_count": 51,
   "metadata": {
    "scrolled": true
   },
   "outputs": [],
   "source": [
    "train['GarageBltDiff'] = train.GarageYrBlt - train.YearBuilt\n",
    "test['GarageBltDiff'] = test.GarageYrBlt - test.YearBuilt\n"
   ]
  },
  {
   "cell_type": "code",
   "execution_count": 52,
   "metadata": {},
   "outputs": [],
   "source": [
    "#Property age\n",
    "import datetime\n",
    "now = datetime.datetime.now()\n",
    "\n",
    "\n",
    "train['PropertyAge'] = now.year - train.YearBuilt\n",
    "train['RemodAge'] = now.year - train.YearRemodAdd\n",
    "train['GarageAge'] = now.year - train.GarageYrBlt\n",
    "\n",
    "test['PropertyAge'] = now.year - test.YearBuilt\n",
    "test['RemodAge'] = now.year - test.YearRemodAdd\n",
    "test['GarageAge'] = now.year - test.GarageYrBlt"
   ]
  },
  {
   "cell_type": "code",
   "execution_count": 53,
   "metadata": {},
   "outputs": [
    {
     "data": {
      "text/plain": [
       "<matplotlib.axes._subplots.AxesSubplot at 0x1a17a26a90>"
      ]
     },
     "execution_count": 53,
     "metadata": {},
     "output_type": "execute_result"
    },
    {
     "data": {
      "image/png": "[encoded data removed]",
      "text/plain": [
       "<Figure size 432x288 with 1 Axes>"
      ]
     },
     "metadata": {},
     "output_type": "display_data"
    }
   ],
   "source": [
    " '''\n",
    " MSSubClass is grade it's must be encoded\n",
    "'''\n",
    "    \n",
    "train['SalePrice'].groupby(train['MSSubClass']).mean().plot()\n"
   ]
  },
  {
   "cell_type": "code",
   "execution_count": 54,
   "metadata": {},
   "outputs": [
    {
     "data": {
      "text/plain": [
       "<matplotlib.axes._subplots.AxesSubplot at 0x1a16f552b0>"
      ]
     },
     "execution_count": 54,
     "metadata": {},
     "output_type": "execute_result"
    },
    {
     "data": {
      "image/png": "[encoded data removed]",
      "text/plain": [
       "<Figure size 432x288 with 1 Axes>"
      ]
     },
     "metadata": {},
     "output_type": "display_data"
    }
   ],
   "source": [
    "\n",
    "train['SalePrice'].groupby(train['MSSubClass']).agg('count').plot()"
   ]
  },
  {
   "cell_type": "code",
   "execution_count": 55,
   "metadata": {},
   "outputs": [
    {
     "data": {
      "text/plain": [
       "<matplotlib.axes._subplots.AxesSubplot at 0x1a17b06358>"
      ]
     },
     "execution_count": 55,
     "metadata": {},
     "output_type": "execute_result"
    },
    {
     "data": {
      "image/png": "[encoded data removed]",
      "text/plain": [
       "<Figure size 432x288 with 1 Axes>"
      ]
     },
     "metadata": {},
     "output_type": "display_data"
    }
   ],
   "source": [
    "sns.countplot(train['MSSubClass'])"
   ]
  },
  {
   "cell_type": "code",
   "execution_count": 56,
   "metadata": {},
   "outputs": [],
   "source": [
    "\n",
    "train[\"NewDwelling\"] = train[\"MSSubClass\"].replace(\n",
    "    {20: 1, 30: 0, 40: 0, 45: 0,50: 0, 60: 1, 70: 0, 75: 0, 80: 0, 85: 0,\n",
    "     90: 0, 120: 1, 150: 0, 160: 1, 180: 0, 190: 0})\n",
    "test[\"NewDwelling\"] = test[\"MSSubClass\"].replace(\n",
    "    {20: 1, 30: 0, 40: 0, 45: 0,50: 0, 60: 1, 70: 0, 75: 0, 80: 0, 85: 0,\n",
    "     90: 0, 120: 1, 150: 0, 160: 1, 180: 0, 190: 0})\n",
    "\n",
    "train['MSSubClass'] = train['MSSubClass'].replace({20: 'MS20',30: 'MS30',40: 'MS40',45: 'MS45',\n",
    "                                                   50: 'MS50',60: 'MS60',70: 'MS70',75: 'MS75',\n",
    "                                                   80: 'MS80',85: 'MS85',90: 'MS90',120: 'MS120',\n",
    "                                                   150: 'MS150',160: 'MS160',180: 'MS180',190: 'MS190'})\n",
    "\n",
    "test['MSSubClass'] = test['MSSubClass'].replace({20: 'MS20',30: 'MS30',40: 'MS40',45: 'MS45',\n",
    "                                                   50: 'MS50',60: 'MS60',70: 'MS70',75: 'MS75',\n",
    "                                                   80: 'MS80',85: 'MS85',90: 'MS90',120: 'MS120',\n",
    "                                                   150: 'MS150',160: 'MS160',180: 'MS180',190: 'MS190'})\n",
    "\n",
    "\n"
   ]
  },
  {
   "cell_type": "code",
   "execution_count": 57,
   "metadata": {},
   "outputs": [
    {
     "data": {
      "text/plain": [
       "<matplotlib.axes._subplots.AxesSubplot at 0x1a17da2e48>"
      ]
     },
     "execution_count": 57,
     "metadata": {},
     "output_type": "execute_result"
    },
    {
     "data": {
      "image/png": "[encoded data removed]",
      "text/plain": [
       "<Figure size 432x288 with 1 Axes>"
      ]
     },
     "metadata": {},
     "output_type": "display_data"
    }
   ],
   "source": [
    "plt.xticks(rotation =70)\n",
    "sns.countplot(train['MSSubClass'])"
   ]
  },
  {
   "cell_type": "code",
   "execution_count": 58,
   "metadata": {},
   "outputs": [],
   "source": [
    "#correction in Data\n",
    "#Column  Exterior2nd\n",
    "#['Brk Cmn' 'CmentBd' 'Wd Shng']\n",
    "train.Exterior2nd = train.Exterior2nd.replace('Brk Cmn', 'BrkComm')\n",
    "train.Exterior2nd = train.Exterior2nd.replace('CmentBd', 'CemntBd')\n",
    "train.Exterior2nd = train.Exterior2nd.replace('Wd Shng', 'Wd Sdng')\n",
    "\n",
    "test.Exterior2nd = test.Exterior2nd.replace('Brk Cmn', 'BrkComm')\n",
    "test.Exterior2nd = test.Exterior2nd.replace('CmentBd', 'CemntBd')\n",
    "test.Exterior2nd = test.Exterior2nd.replace('Wd Shng', 'Wd Sdng')\n"
   ]
  },
  {
   "cell_type": "code",
   "execution_count": 59,
   "metadata": {},
   "outputs": [],
   "source": [
    "#train\n"
   ]
  },
  {
   "cell_type": "code",
   "execution_count": 60,
   "metadata": {},
   "outputs": [],
   "source": [
    "train_X = train.loc[:,train.columns != 'SalePrice' ]\n",
    "train_Y = train.loc[:,train.columns =='SalePrice']\n",
    "test_df = test.iloc[:,:]\n",
    "\n",
    "\n"
   ]
  },
  {
   "cell_type": "code",
   "execution_count": 61,
   "metadata": {},
   "outputs": [],
   "source": [
    "#train_X"
   ]
  },
  {
   "cell_type": "code",
   "execution_count": 62,
   "metadata": {},
   "outputs": [],
   "source": [
    "from sklearn.preprocessing import LabelBinarizer\n",
    "\n",
    "def LabelBinarizerConverter(col_name, col_label):\n",
    "    global train_X\n",
    "    global test_df\n",
    "    lb_style = LabelBinarizer()\n",
    "    lb_style.fit(col_label)\n",
    "    \n",
    "    #Handle in train dataframe\n",
    "    index_col = train_X.columns.values.tolist().index(col_name)\n",
    "    lb_results = lb_style.transform(train_X[col_name])\n",
    "    df_new = pd.DataFrame(lb_results, columns=lb_style.classes_ )\n",
    "    df_new = df_new.iloc[:, 1:]\n",
    "\n",
    "    df_new.rename(columns= lambda x: col_name +'_'+ x,inplace = True )\n",
    "    train_new= pd.concat([train_X.iloc[:,:index_col] , df_new], axis=1)\n",
    "    train_new1 = pd.concat([train_new , train_X.iloc[:,index_col+1:]]  , axis=1)\n",
    "    train_X = train_new1\n",
    "    \n",
    "    #Handle in test dataframe\n",
    "    index_col = test_df.columns.values.tolist().index(col_name)\n",
    "    lb_results = lb_style.transform(test_df[col_name])\n",
    "    df_new = pd.DataFrame(lb_results, columns=lb_style.classes_ )\n",
    "    df_new = df_new.iloc[:, 1:]\n",
    "\n",
    "\n",
    "    df_new.rename(columns= lambda x: col_name +'_'+ x,inplace = True )\n",
    "    test_new= pd.concat([test_df.iloc[:,:index_col] , df_new], axis=1)\n",
    "    test_new1 = pd.concat([test_new , test_df.iloc[:,index_col+1:]]  , axis=1)\n",
    "    test_df = test_new1"
   ]
  },
  {
   "cell_type": "code",
   "execution_count": 63,
   "metadata": {},
   "outputs": [
    {
     "data": {
      "text/plain": [
       "(1459, 90)"
      ]
     },
     "execution_count": 63,
     "metadata": {},
     "output_type": "execute_result"
    }
   ],
   "source": [
    "test_df.shape"
   ]
  },
  {
   "cell_type": "code",
   "execution_count": 64,
   "metadata": {},
   "outputs": [
    {
     "data": {
      "text/plain": [
       "(1460, 90)"
      ]
     },
     "execution_count": 64,
     "metadata": {},
     "output_type": "execute_result"
    }
   ],
   "source": [
    "train_X.shape"
   ]
  },
  {
   "cell_type": "code",
   "execution_count": 65,
   "metadata": {},
   "outputs": [],
   "source": [
    "#train_X"
   ]
  },
  {
   "cell_type": "code",
   "execution_count": null,
   "metadata": {},
   "outputs": [],
   "source": []
  },
  {
   "cell_type": "code",
   "execution_count": 66,
   "metadata": {},
   "outputs": [],
   "source": [
    "\n",
    "LabelBinarizerConverter('MSSubClass', ['MS20', 'MS30', 'MS40', 'MS45', 'MS50','MS60',\n",
    "                                       'MS70', 'MS75','MS80', \n",
    "                                       'MS85', 'MS90', 'MS120','MS150','MS160', 'MS180','MS190'])\n",
    "\n"
   ]
  },
  {
   "cell_type": "code",
   "execution_count": 67,
   "metadata": {},
   "outputs": [],
   "source": [
    "\n",
    "'''LabelBinarizerConverter('MSSubClass', ['MS20', 'MS30', 'MS40', 'MS45', 'MS50','MS60',\n",
    "                                       'MS70', 'MS75','MS80', \n",
    "                                       'MS85', 'MS90', 'MS120','MS150','MS160', 'MS180','MS190'])'''\n",
    "\n",
    "\n",
    "LabelBinarizerConverter('MSZoning',['A','C (all)','FV','I','RH','RL', 'RP', 'RM'])\n",
    "\n",
    "LabelBinarizerConverter('Street',['None','Pave', 'Grvl'])\n",
    "\n",
    "\n",
    "LabelBinarizerConverter('Alley',['None', 'Grvl', 'Pave'])\n",
    "LabelBinarizerConverter('LotShape',['Reg', 'IR1', 'IR2', 'IR3'])\n",
    "LabelBinarizerConverter('LandContour',['Lvl', 'Bnk', 'HLS', 'Low'] )\n",
    "LabelBinarizerConverter('Utilities',['None', 'ELO', 'NoSeWa', 'NoSewr', 'AllPub'])\n",
    "LabelBinarizerConverter('LotConfig', ['Inside', 'Corner', 'CulDSac','FR2', 'FR3'])\n",
    "LabelBinarizerConverter('LandSlope',['Gtl', 'Mod', 'Sev'])\n",
    "LabelBinarizerConverter('Neighborhood',['Blmngtn', 'Blueste', 'BrDale', 'BrkSide', 'ClearCr',\n",
    "                        'CollgCr', 'Crawfor', 'Edwards', 'Gilbert', 'IDOTRR',\n",
    "                        'MeadowV', 'Mitchel', 'NAmes','NoRidge', 'NPkVill', 'NridgHt',\n",
    "                        'NWAmes','OldTown','SWISU','Sawyer', 'SawyerW','Somerst',\n",
    "                        'StoneBr', 'Timber', 'Veenker'])\n",
    "LabelBinarizerConverter('Condition1', ['Artery', 'Feedr', 'Norm', 'RRNn', 'RRAn', 'PosN', 'PosA', 'RRNe', 'RRAe'])\n",
    "LabelBinarizerConverter('Condition2',['Artery', 'Feedr', 'Norm', 'RRNn', 'RRAn', 'PosN', 'PosA', 'RRNe', 'RRAe'])\n",
    "LabelBinarizerConverter('BldgType',['1Fam', '2fmCon', 'Duplex', 'TwnhsE', 'Twnhs'])\n",
    "LabelBinarizerConverter('HouseStyle', ['1Story', '1.5Fin', '1.5Unf', '2Story', '2.5Fin', '2.5Unf',\n",
    "                                       'SFoyer', 'SLvl'])\n",
    "LabelBinarizerConverter('RoofStyle',['Flat', 'Gable', 'Gambrel', 'Hip', 'Mansard', 'Shed'] )\n",
    "LabelBinarizerConverter('RoofMatl',['ClyTile', 'CompShg', 'Membran', 'Metal', 'Roll', 'Tar&Grv', 'WdShake', 'WdShngl'])\n",
    "\n",
    "LabelBinarizerConverter('Exterior1st',['AsbShng', 'AsphShn', 'BrkComm', 'BrkFace', 'CBlock', 'CemntBd', 'HdBoard','ImStucc', 'MetalSd','Other', 'Plywood', 'PreCast','Stone', 'Stucco', 'VinylSd', 'Wd Sdng', 'WdShing'])\n",
    "LabelBinarizerConverter('Exterior2nd',['AsbShng', 'AsphShn', 'BrkComm', 'BrkFace', 'CBlock', 'CemntBd', 'HdBoard','ImStucc', 'MetalSd','Other', 'Plywood', 'PreCast','Stone', 'Stucco','VinylSd', 'Wd Sdng', 'WdShing'])\n",
    "\n",
    "LabelBinarizerConverter('MasVnrType',['BrkCmn', 'BrkFace', 'CBlock', 'None', 'Stone' ])\n",
    "LabelBinarizerConverter('Foundation',['BrkTil', 'CBlock', 'PConc', 'Slab', 'Stone' ,'Wood'])\n",
    "LabelBinarizerConverter('Heating',['Floor', 'GasA', 'GasW', 'Grav', 'OthW' ,'Wall'])\n",
    "LabelBinarizerConverter('Electrical',['SBrkr', 'FuseA', 'FuseF', 'FuseP', 'Mix' ]) \n",
    "LabelBinarizerConverter('Functional',['Typ', 'Min1', 'Min2', 'Mod', 'Maj1','Maj2','Sev','Sal' ])\n",
    "LabelBinarizerConverter('GarageType',['2Types', 'Attchd', 'Basment', 'BuiltIn', 'CarPort','Detchd','None' ])\n",
    "LabelBinarizerConverter('GarageFinish',['Fin', 'RFn', 'Unf', 'None' ])\n",
    "LabelBinarizerConverter('PavedDrive', ['Y', 'N', 'P' ])\n",
    "LabelBinarizerConverter('Fence',['GdPrv', 'MnPrv', 'GdWo','MnWw','None' ])\n",
    "LabelBinarizerConverter('MiscFeature',['Elev', 'Gar2', 'Othr','Shed','TenC','None' ])\n",
    "LabelBinarizerConverter('SaleType',['WD', 'CWD', 'VWD','New','COD','Con','ConLw', 'ConLI', 'ConLD', 'Oth', 'None'])\n",
    "LabelBinarizerConverter('SaleCondition',['Normal', 'Abnorml', 'AdjLand','Alloca','Family','Partial'])\n",
    "LabelBinarizerConverter('MoSold',['2', '5', '9', '12', '10', '8', '11', '4', '1', '7', '3', '6'])\n"
   ]
  },
  {
   "cell_type": "code",
   "execution_count": 68,
   "metadata": {},
   "outputs": [
    {
     "data": {
      "text/plain": [
       "(1460, 267)"
      ]
     },
     "execution_count": 68,
     "metadata": {},
     "output_type": "execute_result"
    }
   ],
   "source": [
    "train_X.shape"
   ]
  },
  {
   "cell_type": "code",
   "execution_count": 69,
   "metadata": {},
   "outputs": [
    {
     "data": {
      "text/plain": [
       "(1459, 267)"
      ]
     },
     "execution_count": 69,
     "metadata": {},
     "output_type": "execute_result"
    }
   ],
   "source": [
    "test_df.shape"
   ]
  },
  {
   "cell_type": "code",
   "execution_count": 70,
   "metadata": {
    "scrolled": true
   },
   "outputs": [],
   "source": [
    " def LabelEncoder_fun(df):\n",
    "    le_subClass = LabelEncoder()\n",
    "    le_subClass.fit(['MS20', 'MS30', 'MS40', 'MS45', 'MS50','MS60', \n",
    "                              'MS70', 'MS75','MS80', 'MS85', 'MS90', 'MS120',\n",
    "                              'MS150','MS160', 'MS180','MS190'])\n",
    "    df[:,1] = le_subClass.transform(df[:, 1])\n",
    "    \n",
    "    le_MSZoning = LabelEncoder()\n",
    "    le_MSZoning.fit(['A','C (all)','FV','I','RH','RL', 'RP', 'RM'])\n",
    "    df[:,2] = le_MSZoning.transform(df[:, 2])\n",
    "    \n",
    "    le_Street = LabelEncoder()\n",
    "    le_Street.fit(['Pave', 'Grvl'])\n",
    "    df[:,5] = le_Street.transform(df[:, 5])\n",
    "    \n",
    "    le_Alley = LabelEncoder()\n",
    "    le_Alley.fit(['None', 'Grvl', 'Pave'])\n",
    "    df[:,6] = le_Alley.transform(df[:, 6])\n",
    "    \n",
    "    le_LotShape = LabelEncoder()\n",
    "    le_LotShape.fit(['Reg', 'IR1', 'IR2', 'IR3'])\n",
    "    df[:,7] = le_LotShape.transform(df[:, 7])\n",
    "    \n",
    "    le_LandContour = LabelEncoder()\n",
    "    le_LandContour.fit(['Lvl', 'Bnk', 'HLS', 'Low'])\n",
    "    df[:,8] = le_LandContour.transform(df[:, 8])\n",
    "    \n",
    "    le_Utilities = LabelEncoder()\n",
    "    le_Utilities.fit(['None', 'ELO', 'NoSeWa', 'NoSewr', 'AllPub'])\n",
    "    df[:,9] = le_Utilities.transform(df[:, 9])\n",
    "    \n",
    "    le_LotConfig = LabelEncoder()\n",
    "    le_LotConfig.fit(['Inside', 'Corner', 'CulDSac','FR2', 'FR3'])\n",
    "    df[:,10] = le_LotConfig.transform(df[:, 10])\n",
    "    \n",
    "    le_LandSlope = LabelEncoder()\n",
    "    le_LandSlope.fit(['Gtl', 'Mod', 'Sev'])\n",
    "    df[:,11] = le_LandSlope.transform(df[:, 11])\n",
    "    \n",
    "    le_Neighborhood = LabelEncoder()\n",
    "    le_Neighborhood.fit(['Blmngtn', 'Blueste', 'BrDale', 'BrkSide', 'ClearCr',\n",
    "                        'CollgCr', 'Crawfor', 'Edwards', 'Gilbert', 'IDOTRR',\n",
    "                        'MeadowV', 'Mitchel', 'NAmes','NoRidge', 'NPkVill', 'NridgHt',\n",
    "                        'NWAmes','OldTown','SWISU','Sawyer', 'SawyerW','Somerst',\n",
    "                        'StoneBr', 'Timber', 'Veenker'])\n",
    "    df[:,12] = le_Neighborhood.transform(df[:, 12])\n",
    "    \n",
    "    le_Condition1 = LabelEncoder()\n",
    "    le_Condition1.fit(['Artery', 'Feedr', 'Norm', 'RRNn', 'RRAn', 'PosN', 'PosA', 'RRNe', 'RRAe'])\n",
    "    df[:,13] = le_Condition1.transform(df[:, 13])\n",
    "    \n",
    "    le_Condition2 = LabelEncoder()\n",
    "    le_Condition2.fit(['Artery', 'Feedr', 'Norm', 'RRNn', 'RRAn', 'PosN', 'PosA', 'RRNe', 'RRAe'])\n",
    "    df[:,14] = le_Condition2.transform(df[:, 14])\n",
    "    \n",
    "    le_BldgType = LabelEncoder()\n",
    "    le_BldgType.fit(['1Fam', '2fmCon', 'Duplex', 'TwnhsE', 'Twnhs'])\n",
    "    df[:,15] = le_BldgType.transform(df[:, 15])\n",
    "    \n",
    "    le_HouseStyle = LabelEncoder()\n",
    "    le_HouseStyle.fit(['1Story', '1.5Fin', '1.5Unf', '2Story', '2.5Fin', '2.5Unf',\n",
    "                      'SFoyer', 'SLvl'])\n",
    "    df[:,16] = le_HouseStyle.transform(df[:, 16])\n",
    "    \n",
    "    le_RoofStyle = LabelEncoder()\n",
    "    le_RoofStyle.fit(['Flat', 'Gable', 'Gambrel', 'Hip', 'Mansard', 'Shed'])\n",
    "    df[:,21] = le_RoofStyle.transform(df[:, 21])\n",
    "    \n",
    "    le_RoofMatl = LabelEncoder()\n",
    "    le_RoofMatl.fit(['ClyTile', 'CompShg', 'Membran', 'Metal', 'Roll', 'Tar&Grv', 'WdShake', 'WdShngl'])\n",
    "    df[:,22] = le_RoofMatl.transform(df[:, 22])\n",
    "    \n",
    "    le_Exterior1st = LabelEncoder()\n",
    "    le_Exterior1st.fit(['AsbShng', 'AsphShn', 'BrkComm', 'BrkFace', 'CBlock', 'CemntBd', 'HdBoard', \n",
    "                        'ImStucc', 'MetalSd','Other', 'Plywood', 'PreCast','Stone', 'Stucco', \n",
    "                        'VinylSd', 'Wd Sdng', 'WdShing'])\n",
    "    df[:,23] = le_Exterior1st.transform(df[:, 23])\n",
    "   \n",
    "    le_Exterior2nd = LabelEncoder()\n",
    "    le_Exterior2nd.fit(['AsbShng', 'AsphShn', 'BrkComm', 'BrkFace', 'CBlock', 'CemntBd', 'HdBoard', \n",
    "                        'ImStucc', 'MetalSd','Other', 'Plywood', 'PreCast','Stone', 'Stucco', \n",
    "                        'VinylSd', 'Wd Sdng', 'WdShing'])\n",
    "    df[:,24] = le_Exterior2nd.transform(df[:, 24])\n",
    "    \n",
    "    le_MasVnrType =   LabelEncoder()\n",
    "    le_MasVnrType.fit(['BrkCmn', 'BrkFace', 'CBlock', 'None', 'Stone' ])\n",
    "    df[:,25] = le_MasVnrType.transform(df[:, 25])\n",
    "    \n",
    "    le_Foundation =   LabelEncoder()\n",
    "    le_Foundation.fit(['BrkTil', 'CBlock', 'PConc', 'Slab', 'Stone' ,'Wood'])\n",
    "    df[:,29] = le_Foundation.transform(df[:, 29])\n",
    "    \n",
    "    le_Heating =   LabelEncoder()\n",
    "    le_Heating.fit(['Floor', 'GasA', 'GasW', 'Grav', 'OthW' ,'Wall'])\n",
    "    df[:,39] = le_Heating.transform(df[:, 39])\n",
    "\n",
    "    le_Electrical =   LabelEncoder()\n",
    "    le_Electrical.fit(['SBrkr', 'FuseA', 'FuseF', 'FuseP', 'Mix' ])\n",
    "    df[:,42] = le_Electrical.transform(df[:, 42])\n",
    "\n",
    "    le_Functional =   LabelEncoder()\n",
    "    le_Functional.fit(['Typ', 'Min1', 'Min2', 'Mod', 'Maj1','Maj2','Sev','Sal' ])\n",
    "    df[:,55] = le_Functional.transform(df[:, 55])\n",
    "    \n",
    "    le_GarageType =   LabelEncoder()\n",
    "    le_GarageType.fit(['2Types', 'Attchd', 'Basment', 'BuiltIn', 'CarPort','Detchd','None' ])\n",
    "    df[:,58] = le_GarageType.transform(df[:, 58])\n",
    "    \n",
    "    le_GarageFinish =   LabelEncoder()\n",
    "    le_GarageFinish.fit(['Fin', 'RFn', 'Unf', 'None' ])\n",
    "    df[:,60] = le_GarageFinish.transform(df[:, 60])\n",
    "    \n",
    "    le_PavedDrive =   LabelEncoder()\n",
    "    le_PavedDrive.fit(['Y', 'N', 'P' ])\n",
    "    df[:,65] = le_PavedDrive.transform(df[:, 65])\n",
    "\n",
    "    le_Fence =   LabelEncoder()\n",
    "    le_Fence.fit(['GdPrv', 'MnPrv', 'GdWo','MnWw','None' ])\n",
    "    df[:,73] = le_Fence.transform(df[:, 73])\n",
    "    \n",
    "    le_MiscFeature =   LabelEncoder()\n",
    "    le_MiscFeature.fit(['Elev', 'Gar2', 'Othr','Shed','TenC','None' ])\n",
    "    df[:,74] = le_MiscFeature.transform(df[:, 74])\n",
    "    \n",
    "    le_SaleType =   LabelEncoder()\n",
    "    le_SaleType.fit(['WD', 'CWD', 'VWD','New','COD','Con','ConLw', 'ConLI', 'ConLD', 'Oth', 'None'])\n",
    "    df[:,78] = le_SaleType.transform(df[:, 78])\n",
    "    \n",
    "    le_SaleCondition =   LabelEncoder()\n",
    "    le_SaleType.fit(['Normal', 'Abnorml', 'AdjLand','Alloca','Family','Partial'])\n",
    "    df[:,79] = le_SaleType.transform(df[:, 79])\n",
    "    \n",
    "    return df\n",
    "#Arun"
   ]
  },
  {
   "cell_type": "code",
   "execution_count": 71,
   "metadata": {},
   "outputs": [
    {
     "data": {
      "text/plain": [
       "(1460, 1)"
      ]
     },
     "execution_count": 71,
     "metadata": {},
     "output_type": "execute_result"
    }
   ],
   "source": [
    "#train_X = LabelEncoder_fun(train_X)\n",
    "#test_df = LabelEncoder_fun(test_df)\n",
    "train_Y.shape"
   ]
  },
  {
   "cell_type": "code",
   "execution_count": 72,
   "metadata": {},
   "outputs": [
    {
     "data": {
      "text/plain": [
       "(1460, 267)"
      ]
     },
     "execution_count": 72,
     "metadata": {},
     "output_type": "execute_result"
    }
   ],
   "source": [
    "train_X.shape"
   ]
  },
  {
   "cell_type": "code",
   "execution_count": 73,
   "metadata": {},
   "outputs": [],
   "source": [
    "train_X.drop(columns=['Id'], inplace = True)\n",
    "test_df.drop(columns=['Id'], inplace = True)"
   ]
  },
  {
   "cell_type": "code",
   "execution_count": 74,
   "metadata": {},
   "outputs": [
    {
     "data": {
      "text/plain": [
       "(1459, 266)"
      ]
     },
     "execution_count": 74,
     "metadata": {},
     "output_type": "execute_result"
    }
   ],
   "source": [
    "test_df.shape"
   ]
  },
  {
   "cell_type": "code",
   "execution_count": 75,
   "metadata": {},
   "outputs": [
    {
     "data": {
      "text/plain": [
       "(1460, 266)"
      ]
     },
     "execution_count": 75,
     "metadata": {},
     "output_type": "execute_result"
    }
   ],
   "source": [
    "train_X.shape"
   ]
  },
  {
   "cell_type": "code",
   "execution_count": 76,
   "metadata": {},
   "outputs": [
    {
     "data": {
      "text/plain": [
       "<Figure size 720x720 with 0 Axes>"
      ]
     },
     "execution_count": 76,
     "metadata": {},
     "output_type": "execute_result"
    },
    {
     "data": {
      "image/png": "[encoded data removed]",
      "text/plain": [
       "<Figure size 432x288 with 1 Axes>"
      ]
     },
     "metadata": {},
     "output_type": "display_data"
    },
    {
     "data": {
      "text/plain": [
       "<Figure size 720x720 with 0 Axes>"
      ]
     },
     "metadata": {},
     "output_type": "display_data"
    }
   ],
   "source": [
    "from xgboost import XGBRegressor\n",
    "from sklearn.metrics import accuracy_score\n",
    "\n",
    "#train_X.drop(['Id'], inplace = True)\n",
    "xgb_regressor = XGBRegressor(seed=10)\n",
    "xgb_regressor.fit(train_X, train_Y)\n",
    "\n",
    "\n",
    "\n",
    "feature_importances = pd.Series(xgb_regressor.feature_importances_, train_X.columns.values)\n",
    "feature_importances = feature_importances.sort_values(ascending=False)\n",
    "# feature_importances= feature_importances.head(40)\n",
    "feature_importances.plot(kind='bar', title='Feature Importances')\n",
    "plt.ylabel('Feature Importance Score')\n",
    "plt.figure(figsize=(10,10))"
   ]
  },
  {
   "cell_type": "code",
   "execution_count": 77,
   "metadata": {},
   "outputs": [
    {
     "data": {
      "text/plain": [
       "GrLivArea               0.113122\n",
       "LotArea                 0.081448\n",
       "BsmtFinSF1              0.058824\n",
       "OverallQual             0.052790\n",
       "OverallCond             0.051282\n",
       "TotalBsmtSF             0.040724\n",
       "2ndFlrSF                0.037707\n",
       "LotFrontage             0.036199\n",
       "1stFlrSF                0.030166\n",
       "GarageYrBlt             0.025641\n",
       "GarageArea              0.021116\n",
       "OpenPorchSF             0.018100\n",
       "YearRemodAdd            0.018100\n",
       "BsmtExposure            0.018100\n",
       "BsmtUnfSF               0.016591\n",
       "Neighborhood_Crawfor    0.015083\n",
       "SaleType_New            0.015083\n",
       "WoodDeckSF              0.015083\n",
       "GarageCars              0.013575\n",
       "KitchenQual             0.013575\n",
       "YearBuilt               0.013575\n",
       "ScreenPorch             0.013575\n",
       "Neighborhood_StoneBr    0.013575\n",
       "Functional_Typ          0.012066\n",
       "BsmtQual                0.012066\n",
       "Exterior1st_BrkFace     0.012066\n",
       "Neighborhood_Edwards    0.010558\n",
       "RemodYears              0.010558\n",
       "Condition1_Norm         0.010558\n",
       "MSZoning_C (all)        0.009050\n",
       "                          ...   \n",
       "RoofMatl_WdShake        0.000000\n",
       "RoofMatl_Tar&Grv        0.000000\n",
       "RoofMatl_Roll           0.000000\n",
       "Exterior2nd_Plywood     0.000000\n",
       "Exterior2nd_PreCast     0.000000\n",
       "Exterior2nd_Stone       0.000000\n",
       "Foundation_Wood         0.000000\n",
       "Electrical_Mix          0.000000\n",
       "Electrical_FuseP        0.000000\n",
       "Electrical_FuseF        0.000000\n",
       "Heating_Wall            0.000000\n",
       "Heating_OthW            0.000000\n",
       "Heating_Grav            0.000000\n",
       "Heating_GasW            0.000000\n",
       "Heating_GasA            0.000000\n",
       "BsmtFinType2            0.000000\n",
       "BsmtCond                0.000000\n",
       "Foundation_Stone        0.000000\n",
       "Exterior2nd_Stucco      0.000000\n",
       "Foundation_Slab         0.000000\n",
       "Foundation_PConc        0.000000\n",
       "Foundation_CBlock       0.000000\n",
       "ExterCond               0.000000\n",
       "MasVnrType_Stone        0.000000\n",
       "MasVnrType_CBlock       0.000000\n",
       "MasVnrType_BrkFace      0.000000\n",
       "Exterior2nd_WdShing     0.000000\n",
       "Exterior2nd_Wd Sdng     0.000000\n",
       "Exterior2nd_VinylSd     0.000000\n",
       "MSSubClass_MS150        0.000000\n",
       "Length: 266, dtype: float32"
      ]
     },
     "execution_count": 77,
     "metadata": {},
     "output_type": "execute_result"
    }
   ],
   "source": [
    "feature_importances"
   ]
  },
  {
   "cell_type": "code",
   "execution_count": 78,
   "metadata": {},
   "outputs": [],
   "source": [
    "model =XGBRegressor(colsample_bytree=0.4,\n",
    "                 gamma=0,                 \n",
    "                 learning_rate=0.07,\n",
    "                 max_depth=3,\n",
    "                 min_child_weight=1.5,\n",
    "                 n_estimators=10000,                                                                    \n",
    "                 reg_alpha=0.75,\n",
    "                 reg_lambda=0.45,\n",
    "                 subsample=0.6,\n",
    "                 seed=42) \n"
   ]
  },
  {
   "cell_type": "code",
   "execution_count": 79,
   "metadata": {},
   "outputs": [
    {
     "data": {
      "text/plain": [
       "XGBRegressor(base_score=0.5, booster='gbtree', colsample_bylevel=1,\n",
       "       colsample_bytree=0.4, gamma=0, learning_rate=0.07, max_delta_step=0,\n",
       "       max_depth=3, min_child_weight=1.5, missing=None, n_estimators=10000,\n",
       "       n_jobs=1, nthread=None, objective='reg:linear', random_state=0,\n",
       "       reg_alpha=0.75, reg_lambda=0.45, scale_pos_weight=1, seed=42,\n",
       "       silent=True, subsample=0.6)"
      ]
     },
     "execution_count": 79,
     "metadata": {},
     "output_type": "execute_result"
    }
   ],
   "source": [
    "#every_column_except_y= [col for col in train_dataset.columns if col not in ['SalePrice','Id']]\n",
    "model.fit(train_X,train_Y)\n",
    "\n",
    "#OrderedDict(sorted(model.booster().get_fscore().items(), key=lambda t: t[1], reverse=True))"
   ]
  },
  {
   "cell_type": "code",
   "execution_count": 80,
   "metadata": {},
   "outputs": [
    {
     "data": {
      "text/plain": [
       "OrderedDict([('LotArea', 4429),\n",
       "             ('BsmtUnfSF', 3563),\n",
       "             ('GrLivArea', 3192),\n",
       "             ('1stFlrSF', 2791),\n",
       "             ('LotFrontage', 2623),\n",
       "             ('BsmtFinSF1', 2549),\n",
       "             ('GarageArea', 2498),\n",
       "             ('TotalBsmtSF', 2463),\n",
       "             ('YearBuilt', 1830),\n",
       "             ('TotRmsAbvGrd', 1774),\n",
       "             ('MasVnrArea', 1715),\n",
       "             ('OpenPorchSF', 1622),\n",
       "             ('WoodDeckSF', 1594),\n",
       "             ('2ndFlrSF', 1461),\n",
       "             ('GarageYrBlt', 1386),\n",
       "             ('YearRemodAdd', 1346),\n",
       "             ('MonthlyMeanPrice', 1091),\n",
       "             ('MonthlyCount', 989),\n",
       "             ('YrSold', 874),\n",
       "             ('PropertyAge', 816),\n",
       "             ('Neighborhood_CollgCr', 729),\n",
       "             ('BsmtExposure', 727),\n",
       "             ('GarageAge', 677),\n",
       "             ('OverallQual', 674),\n",
       "             ('RemodYears', 666),\n",
       "             ('RemodAge', 637),\n",
       "             ('BedroomAbvGr', 574),\n",
       "             ('GarageBltDiff', 568),\n",
       "             ('FireplaceQu', 532),\n",
       "             ('BsmtFinType1', 527),\n",
       "             ('OverallCond', 465),\n",
       "             ('GarageFinish_RFn', 433),\n",
       "             ('MoSold_5', 393),\n",
       "             ('Fireplaces', 392),\n",
       "             ('BldgType_Twnhs', 390),\n",
       "             ('EnclosedPorch', 346),\n",
       "             ('Neighborhood_Veenker', 339),\n",
       "             ('HeatingQC', 320),\n",
       "             ('BsmtFinSF2', 305),\n",
       "             ('MoSold_4', 288),\n",
       "             ('Neighborhood_Edwards', 282),\n",
       "             ('ScreenPorch', 274),\n",
       "             ('MoSold_7', 268),\n",
       "             ('BldgType_TwnhsE', 242),\n",
       "             ('Neighborhood_Gilbert', 240),\n",
       "             ('BsmtQual', 234),\n",
       "             ('KitchenQual', 230),\n",
       "             ('LotShape_Reg', 223),\n",
       "             ('MasVnrType_Stone', 221),\n",
       "             ('MasVnrType_BrkFace', 217),\n",
       "             ('MSZoning_RM', 210),\n",
       "             ('Neighborhood_NAmes', 206),\n",
       "             ('ExterQual', 198),\n",
       "             ('LotConfig_Inside', 198),\n",
       "             ('MSSubClass_MS160', 193),\n",
       "             ('MoSold_8', 189),\n",
       "             ('SaleCondition_Normal', 184),\n",
       "             ('Exterior2nd_VinylSd', 184),\n",
       "             ('Exterior1st_VinylSd', 183),\n",
       "             ('Exterior2nd_HdBoard', 181),\n",
       "             ('Neighborhood_NWAmes', 180),\n",
       "             ('SaleType_WD', 179),\n",
       "             ('MSZoning_RL', 177),\n",
       "             ('BsmtFullBath', 177),\n",
       "             ('BsmtCond', 177),\n",
       "             ('MoSold_6', 177),\n",
       "             ('BsmtFinType2', 172),\n",
       "             ('GarageCars', 167),\n",
       "             ('MoSold_10', 162),\n",
       "             ('Fence_GdWo', 158),\n",
       "             ('MSSubClass_MS20', 157),\n",
       "             ('MoSold_3', 157),\n",
       "             ('MSZoning_FV', 154),\n",
       "             ('Exterior1st_HdBoard', 154),\n",
       "             ('Functional_Typ', 149),\n",
       "             ('RoofStyle_Gable', 147),\n",
       "             ('Exterior1st_Plywood', 145),\n",
       "             ('SaleType_ConLw', 145),\n",
       "             ('MoSold_12', 142),\n",
       "             ('GarageType_Attchd', 140),\n",
       "             ('HouseStyle_1Story', 138),\n",
       "             ('Neighborhood_SawyerW', 138),\n",
       "             ('LowQualFinSF', 136),\n",
       "             ('Neighborhood_Somerst', 135),\n",
       "             ('HalfBath', 132),\n",
       "             ('MasVnrType_None', 131),\n",
       "             ('isRemodeled', 128),\n",
       "             ('LandContour_Lvl', 124),\n",
       "             ('SaleCondition_Family', 123),\n",
       "             ('FullBath', 119),\n",
       "             ('Neighborhood_NPkVill', 118),\n",
       "             ('MSSubClass_MS60', 117),\n",
       "             ('GarageFinish_Unf', 117),\n",
       "             ('Neighborhood_NridgHt', 116),\n",
       "             ('isRecentRemodel', 116),\n",
       "             ('Condition1_Norm', 113),\n",
       "             ('Exterior2nd_Plywood', 112),\n",
       "             ('ExterCond', 111),\n",
       "             ('Fence_None', 106),\n",
       "             ('RoofStyle_Hip', 106),\n",
       "             ('Exterior1st_MetalSd', 105),\n",
       "             ('Foundation_CBlock', 102),\n",
       "             ('Neighborhood_Sawyer', 99),\n",
       "             ('LotConfig_FR2', 97),\n",
       "             ('Neighborhood_StoneBr', 95),\n",
       "             ('Exterior2nd_MetalSd', 95),\n",
       "             ('Foundation_PConc', 94),\n",
       "             ('Electrical_SBrkr', 93),\n",
       "             ('SaleCondition_Partial', 91),\n",
       "             ('Exterior2nd_Wd Sdng', 89),\n",
       "             ('GarageType_Detchd', 87),\n",
       "             ('GarageType_BuiltIn', 86),\n",
       "             ('LandContour_HLS', 85),\n",
       "             ('3SsnPorch', 85),\n",
       "             ('SaleType_New', 84),\n",
       "             ('BsmtHalfBath', 80),\n",
       "             ('Fence_MnPrv', 80),\n",
       "             ('GarageQual', 79),\n",
       "             ('Neighborhood_NoRidge', 79),\n",
       "             ('NewDwelling', 79),\n",
       "             ('Exterior1st_BrkFace', 78),\n",
       "             ('Heating_Wall', 78),\n",
       "             ('MoSold_2', 77),\n",
       "             ('MSSubClass_MS50', 75),\n",
       "             ('Exterior1st_Wd Sdng', 75),\n",
       "             ('MoSold_11', 70),\n",
       "             ('Neighborhood_BrkSide', 66),\n",
       "             ('SaleCondition_Alloca', 65),\n",
       "             ('HouseStyle_2Story', 62),\n",
       "             ('Neighborhood_Crawfor', 60),\n",
       "             ('Neighborhood_Timber', 60),\n",
       "             ('LotConfig_CulDSac', 58),\n",
       "             ('MSSubClass_MS90', 56),\n",
       "             ('MSSubClass_MS80', 55),\n",
       "             ('GarageType_CarPort', 55),\n",
       "             ('Neighborhood_OldTown', 55),\n",
       "             ('SaleType_ConLI', 55),\n",
       "             ('Condition1_RRAe', 53),\n",
       "             ('MoSold_9', 52),\n",
       "             ('MiscVal', 52),\n",
       "             ('Condition1_Feedr', 51),\n",
       "             ('Neighborhood_Mitchel', 51),\n",
       "             ('HouseStyle_SLvl', 51),\n",
       "             ('MSSubClass_MS30', 49),\n",
       "             ('GarageCond', 48),\n",
       "             ('LandSlope_Mod', 48),\n",
       "             ('Alley_Pave', 48),\n",
       "             ('Foundation_Slab', 45),\n",
       "             ('MSZoning_C (all)', 44),\n",
       "             ('PavedDrive_P', 44),\n",
       "             ('MSSubClass_MS45', 42),\n",
       "             ('Exterior1st_CemntBd', 41),\n",
       "             ('GarageType_Basment', 41),\n",
       "             ('CentralAir', 40),\n",
       "             ('Alley_None', 40),\n",
       "             ('Functional_Mod', 39),\n",
       "             ('Neighborhood_SWISU', 38),\n",
       "             ('KitchenAbvGr', 36),\n",
       "             ('PoolArea', 36),\n",
       "             ('SaleType_ConLD', 35),\n",
       "             ('BldgType_Duplex', 35),\n",
       "             ('Functional_Min1', 32),\n",
       "             ('Electrical_FuseF', 32),\n",
       "             ('Exterior1st_Stucco', 31),\n",
       "             ('Exterior2nd_CemntBd', 30),\n",
       "             ('MSZoning_RH', 30),\n",
       "             ('MSSubClass_MS190', 30),\n",
       "             ('MSSubClass_MS180', 30),\n",
       "             ('MSSubClass_MS70', 29),\n",
       "             ('LotShape_IR2', 28),\n",
       "             ('Exterior1st_WdShing', 27),\n",
       "             ('LandContour_Low', 27),\n",
       "             ('Heating_GasA', 27),\n",
       "             ('Exterior2nd_Stucco', 26),\n",
       "             ('PavedDrive_Y', 26),\n",
       "             ('Condition1_PosN', 25),\n",
       "             ('HouseStyle_1.5Unf', 25),\n",
       "             ('Neighborhood_ClearCr', 24),\n",
       "             ('GarageType_None', 24),\n",
       "             ('Condition1_RRAn', 23),\n",
       "             ('Exterior2nd_BrkFace', 22),\n",
       "             ('RoofMatl_CompShg', 22),\n",
       "             ('MiscFeature_None', 22),\n",
       "             ('Functional_Maj2', 22),\n",
       "             ('Exterior2nd_Stone', 22),\n",
       "             ('Neighborhood_IDOTRR', 21),\n",
       "             ('Exterior2nd_ImStucc', 20),\n",
       "             ('MiscFeature_Shed', 19),\n",
       "             ('Fence_MnWw', 19),\n",
       "             ('Heating_GasW', 18),\n",
       "             ('SaleType_CWD', 16),\n",
       "             ('Condition1_PosA', 16),\n",
       "             ('RoofStyle_Gambrel', 16),\n",
       "             ('LotConfig_FR3', 16),\n",
       "             ('Exterior2nd_BrkComm', 14),\n",
       "             ('Neighborhood_MeadowV', 13),\n",
       "             ('Neighborhood_BrDale', 13),\n",
       "             ('PoolQC', 12),\n",
       "             ('LotShape_IR3', 12),\n",
       "             ('RoofMatl_Tar&Grv', 11),\n",
       "             ('BldgType_2fmCon', 11),\n",
       "             ('Heating_Grav', 11),\n",
       "             ('HouseStyle_SFoyer', 11),\n",
       "             ('RoofStyle_Mansard', 9),\n",
       "             ('GarageFinish_None', 8),\n",
       "             ('Condition2_PosN', 7),\n",
       "             ('Street_Pave', 7),\n",
       "             ('Condition1_RRNn', 7),\n",
       "             ('Heating_OthW', 6),\n",
       "             ('LandSlope_Sev', 6),\n",
       "             ('Foundation_Wood', 6),\n",
       "             ('MSSubClass_MS75', 5),\n",
       "             ('Condition2_Feedr', 3),\n",
       "             ('HouseStyle_2.5Unf', 2),\n",
       "             ('Condition2_Norm', 2),\n",
       "             ('MSSubClass_MS85', 2),\n",
       "             ('RoofMatl_WdShake', 2),\n",
       "             ('SaleType_Oth', 2),\n",
       "             ('RoofMatl_WdShngl', 1),\n",
       "             ('Functional_Min2', 1)])"
      ]
     },
     "execution_count": 80,
     "metadata": {},
     "output_type": "execute_result"
    }
   ],
   "source": [
    "from collections import OrderedDict\n",
    "OrderedDict(sorted(model.get_booster().get_fscore().items(), key=lambda t: t[1], reverse=True))\n"
   ]
  },
  {
   "cell_type": "code",
   "execution_count": 81,
   "metadata": {},
   "outputs": [
    {
     "name": "stdout",
     "output_type": "stream",
     "text": [
      "['ExterQual', 'FireplaceQu', 'TotalBsmtSF', 'LotArea', 'GarageArea', '2ndFlrSF', 'GrLivArea', 'YearBuilt', 'GarageCars', '1stFlrSF', 'Fireplaces', 'RemodAge', 'KitchenQual', 'BsmtFinSF1', 'BsmtQual', 'KitchenAbvGr', 'OverallQual', 'OpenPorchSF', 'FullBath', 'MasVnrArea', 'LotFrontage', 'TotRmsAbvGrd', 'GarageYrBlt', 'YearRemodAdd', 'MonthlyCount', 'BsmtFinType1', 'HalfBath', 'WoodDeckSF', 'BedroomAbvGr', 'MSZoning_RM', 'GarageType_Attchd', 'OverallCond', 'BsmtExposure', 'GarageQual', 'CentralAir', 'BsmtHalfBath', 'SaleType_WD', 'MSSubClass_MS60', 'BsmtUnfSF', 'Condition1_Norm', 'GarageBltDiff', 'Neighborhood_Edwards', 'SaleType_New', 'MSZoning_RL', 'BsmtFullBath', 'GarageCond', 'Neighborhood_Crawfor', 'PoolQC', 'Condition1_PosN', 'SaleCondition_Normal', 'MSSubClass_MS70', 'PropertyAge', 'ExterCond', 'SaleCondition_Family', 'isRemodeled', 'MSSubClass_MS80', 'Neighborhood_StoneBr', 'MasVnrType_BrkFace', 'LotShape_IR3', 'ScreenPorch', 'Neighborhood_NoRidge', 'Exterior1st_Stucco', 'PoolArea', 'Exterior1st_BrkFace', 'GarageAge', 'LotShape_Reg', 'Functional_Typ', 'RoofStyle_Gable', 'SaleCondition_Partial', 'MSSubClass_MS30', 'Neighborhood_Timber', 'MonthlyMeanPrice', 'LandSlope_Mod', 'GarageFinish_Unf', 'MoSold_8', 'RemodYears', 'LotConfig_Inside', 'BsmtFinType2', 'Exterior2nd_BrkFace', 'Foundation_CBlock', 'Condition1_Feedr', 'Neighborhood_Somerst', 'BsmtFinSF2', 'MSZoning_C (all)', 'MoSold_7', 'YrSold', 'Neighborhood_NAmes', 'BsmtCond', 'LotConfig_CulDSac', 'EnclosedPorch', 'LowQualFinSF', 'LandContour_HLS', 'Neighborhood_NridgHt', 'GarageFinish_RFn', 'MSZoning_FV', 'Exterior1st_MetalSd', 'RoofMatl_Tar&Grv', 'Exterior2nd_VinylSd', 'Condition1_RRAe', 'Neighborhood_BrkSide', 'Alley_None', 'Neighborhood_ClearCr', 'isRecentRemodel', 'HouseStyle_1Story', 'Exterior2nd_HdBoard', 'MasVnrType_Stone', 'MoSold_2', 'LandContour_Lvl', 'RoofMatl_CompShg', 'MoSold_11', 'Exterior1st_VinylSd', 'MasVnrType_None', 'Exterior1st_HdBoard', 'Exterior2nd_CemntBd', 'MoSold_5', 'Exterior2nd_MetalSd', '3SsnPorch', 'MoSold_10', 'LotShape_IR2', 'MSSubClass_MS20', 'SaleType_CWD', 'Condition1_PosA', 'BldgType_TwnhsE', 'PavedDrive_P', 'Alley_Pave', 'GarageType_CarPort', 'MoSold_4', 'Fence_GdWo', 'Exterior1st_Plywood', 'HouseStyle_2Story', 'MoSold_9', 'Fence_None', 'GarageType_Detchd', 'MoSold_12', 'Exterior2nd_Wd Sdng', 'RoofStyle_Hip', 'Exterior1st_WdShing', 'LandContour_Low', 'Neighborhood_Veenker', 'MSZoning_RH', 'GarageType_None', 'LotConfig_FR2', 'GarageType_BuiltIn', 'Exterior1st_CemntBd', 'Functional_Mod', 'GarageType_Basment', 'SaleCondition_Alloca', 'Neighborhood_MeadowV', 'MSSubClass_MS50', 'HeatingQC', 'Exterior1st_Wd Sdng', 'MSSubClass_MS90', 'BldgType_2fmCon', 'Electrical_SBrkr', 'MiscFeature_None', 'Neighborhood_Mitchel', 'MiscFeature_Shed', 'MoSold_3', 'Neighborhood_CollgCr', 'Exterior2nd_Stucco', 'Neighborhood_NWAmes', 'Exterior2nd_ImStucc', 'Functional_Min1', 'Neighborhood_SawyerW', 'Neighborhood_OldTown', 'MSSubClass_MS190', 'Fence_MnWw', 'Foundation_PConc', 'MoSold_6', 'Fence_MnPrv', 'Neighborhood_SWISU', 'PavedDrive_Y', 'Functional_Maj2', 'SaleType_ConLD', 'RoofStyle_Gambrel', 'BldgType_Duplex', 'Exterior2nd_Plywood', 'Neighborhood_Sawyer', 'Heating_GasA', 'MSSubClass_MS160', 'Neighborhood_BrDale', 'Electrical_FuseF', 'Neighborhood_Gilbert', 'Neighborhood_NPkVill', 'LotConfig_FR3', 'NewDwelling', 'SaleType_ConLI', 'HouseStyle_SLvl', 'MiscVal', 'Heating_GasW', 'BldgType_Twnhs', 'Neighborhood_IDOTRR', 'SaleType_ConLw', 'Heating_Grav', 'HouseStyle_1.5Unf', 'MSSubClass_MS45', 'MSSubClass_MS180', 'Exterior2nd_BrkComm', 'Condition1_RRAn', 'Exterior2nd_Stone', 'HouseStyle_SFoyer', 'Heating_Wall', 'Foundation_Slab']\n"
     ]
    }
   ],
   "source": [
    "#Let's remove the less important ones \n",
    "most_relevant_features= list( dict((k, v) for k, v in model.get_booster().get_fscore().items() if v >= 10).keys())\n",
    "print(most_relevant_features)"
   ]
  },
  {
   "cell_type": "code",
   "execution_count": 82,
   "metadata": {},
   "outputs": [
    {
     "data": {
      "image/png": "[encoded data removed]",
      "text/plain": [
       "<Figure size 432x288 with 1 Axes>"
      ]
     },
     "metadata": {},
     "output_type": "display_data"
    }
   ],
   "source": [
    "plt.scatter(train_X.LotArea, train_Y.SalePrice, c = \"blue\", marker = \"s\")\n",
    "plt.title(\"LotArea vs SalePrice\")\n",
    "plt.xlabel(\"LotArea\")\n",
    "plt.ylabel(\"SalePrice\")\n",
    "plt.show()"
   ]
  },
  {
   "cell_type": "code",
   "execution_count": 83,
   "metadata": {},
   "outputs": [
    {
     "data": {
      "image/png": "[encoded data removed]",
      "text/plain": [
       "<Figure size 432x288 with 1 Axes>"
      ]
     },
     "metadata": {},
     "output_type": "display_data"
    }
   ],
   "source": [
    "plt.scatter(train_X.GrLivArea, train_Y.SalePrice, c = \"blue\", marker = \"s\")\n",
    "plt.title(\"GrLivArea vs SalePrice\")\n",
    "plt.xlabel(\"GrLivArea\")\n",
    "plt.ylabel(\"SalePrice\")\n",
    "plt.show()"
   ]
  },
  {
   "cell_type": "code",
   "execution_count": 84,
   "metadata": {},
   "outputs": [],
   "source": [
    "train_x=train_X[most_relevant_features]\n",
    "train_y=train_Y['SalePrice']\n"
   ]
  },
  {
   "cell_type": "code",
   "execution_count": 85,
   "metadata": {},
   "outputs": [
    {
     "data": {
      "text/plain": [
       "203"
      ]
     },
     "execution_count": 85,
     "metadata": {},
     "output_type": "execute_result"
    }
   ],
   "source": [
    "len(most_relevant_features)"
   ]
  },
  {
   "cell_type": "code",
   "execution_count": 86,
   "metadata": {},
   "outputs": [
    {
     "data": {
      "text/plain": [
       "Index(['MSSubClass_MS150', 'MSSubClass_MS160', 'MSSubClass_MS180',\n",
       "       'MSSubClass_MS190', 'MSSubClass_MS20', 'MSSubClass_MS30',\n",
       "       'MSSubClass_MS40', 'MSSubClass_MS45', 'MSSubClass_MS50',\n",
       "       'MSSubClass_MS60',\n",
       "       ...\n",
       "       'MonthlyMeanPrice', 'MonthlyCount', 'RemodYears', 'isRemodeled',\n",
       "       'isRecentRemodel', 'GarageBltDiff', 'PropertyAge', 'RemodAge',\n",
       "       'GarageAge', 'NewDwelling'],\n",
       "      dtype='object', length=266)"
      ]
     },
     "execution_count": 86,
     "metadata": {},
     "output_type": "execute_result"
    }
   ],
   "source": [
    "test_df.columns"
   ]
  },
  {
   "cell_type": "code",
   "execution_count": 87,
   "metadata": {},
   "outputs": [],
   "source": [
    "\n",
    "train_X = train_X[train_X.GrLivArea < 8.25]\n",
    "train_X = train_X[train_X.LotArea < 11.5]\n",
    "train_Y = train_Y[train_Y.SalePrice<13]\n",
    "train_Y = train_Y[train_Y.SalePrice>10.5]\n"
   ]
  },
  {
   "cell_type": "code",
   "execution_count": 88,
   "metadata": {},
   "outputs": [
    {
     "data": {
      "text/plain": [
       "XGBRegressor(base_score=0.5, booster='gbtree', colsample_bylevel=1,\n",
       "       colsample_bytree=0.4, gamma=0, learning_rate=0.07, max_delta_step=0,\n",
       "       max_depth=3, min_child_weight=1.5, missing=None, n_estimators=10000,\n",
       "       n_jobs=1, nthread=None, objective='reg:linear', random_state=0,\n",
       "       reg_alpha=0.75, reg_lambda=0.45, scale_pos_weight=1, seed=42,\n",
       "       silent=True, subsample=0.6)"
      ]
     },
     "execution_count": 88,
     "metadata": {},
     "output_type": "execute_result"
    }
   ],
   "source": [
    "best_model = XGBRegressor(colsample_bytree=0.4, gamma=0, learning_rate=0.07, max_depth=3, min_child_weight=1.5,\n",
    "                          n_estimators=10000, reg_alpha=0.75, reg_lambda=0.45, subsample=0.6,seed=42)\n",
    "best_model.fit(train_x,train_y)"
   ]
  },
  {
   "cell_type": "code",
   "execution_count": 89,
   "metadata": {},
   "outputs": [],
   "source": [
    "\n",
    "test_relevant = test_df.loc[:,most_relevant_features]\n",
    "test_relevant.shape\n",
    "\n",
    "test_predict = best_model.predict(test_relevant)"
   ]
  },
  {
   "cell_type": "code",
   "execution_count": 90,
   "metadata": {},
   "outputs": [],
   "source": [
    "#pd.DataFrame(test_predict)\n",
    "\n",
    "filename = 'submission.csv'\n",
    "pd.DataFrame({'Id': test.Id, 'SalePrice': test_predict}).to_csv(filename, index=False)\n",
    "\n"
   ]
  },
  {
   "cell_type": "code",
   "execution_count": 91,
   "metadata": {},
   "outputs": [
    {
     "data": {
      "text/html": [
       "<div>\n",
       "<style scoped>\n",
       "    .dataframe tbody tr th:only-of-type {\n",
       "        vertical-align: middle;\n",
       "    }\n",
       "\n",
       "    .dataframe tbody tr th {\n",
       "        vertical-align: top;\n",
       "    }\n",
       "\n",
       "    .dataframe thead th {\n",
       "        text-align: right;\n",
       "    }\n",
       "</style>\n",
       "<table border=\"1\" class=\"dataframe\">\n",
       "  <thead>\n",
       "    <tr style=\"text-align: right;\">\n",
       "      <th></th>\n",
       "      <th>Id</th>\n",
       "      <th>SalePrice</th>\n",
       "    </tr>\n",
       "  </thead>\n",
       "  <tbody>\n",
       "    <tr>\n",
       "      <th>0</th>\n",
       "      <td>1461</td>\n",
       "      <td>124847.500000</td>\n",
       "    </tr>\n",
       "    <tr>\n",
       "      <th>1</th>\n",
       "      <td>1462</td>\n",
       "      <td>174801.718750</td>\n",
       "    </tr>\n",
       "    <tr>\n",
       "      <th>2</th>\n",
       "      <td>1463</td>\n",
       "      <td>192165.265625</td>\n",
       "    </tr>\n",
       "    <tr>\n",
       "      <th>3</th>\n",
       "      <td>1464</td>\n",
       "      <td>198786.656250</td>\n",
       "    </tr>\n",
       "    <tr>\n",
       "      <th>4</th>\n",
       "      <td>1465</td>\n",
       "      <td>176868.093750</td>\n",
       "    </tr>\n",
       "    <tr>\n",
       "      <th>5</th>\n",
       "      <td>1466</td>\n",
       "      <td>167618.515625</td>\n",
       "    </tr>\n",
       "    <tr>\n",
       "      <th>6</th>\n",
       "      <td>1467</td>\n",
       "      <td>174399.078125</td>\n",
       "    </tr>\n",
       "    <tr>\n",
       "      <th>7</th>\n",
       "      <td>1468</td>\n",
       "      <td>170246.281250</td>\n",
       "    </tr>\n",
       "    <tr>\n",
       "      <th>8</th>\n",
       "      <td>1469</td>\n",
       "      <td>176545.859375</td>\n",
       "    </tr>\n",
       "    <tr>\n",
       "      <th>9</th>\n",
       "      <td>1470</td>\n",
       "      <td>135439.531250</td>\n",
       "    </tr>\n",
       "    <tr>\n",
       "      <th>10</th>\n",
       "      <td>1471</td>\n",
       "      <td>193351.062500</td>\n",
       "    </tr>\n",
       "    <tr>\n",
       "      <th>11</th>\n",
       "      <td>1472</td>\n",
       "      <td>95670.484375</td>\n",
       "    </tr>\n",
       "    <tr>\n",
       "      <th>12</th>\n",
       "      <td>1473</td>\n",
       "      <td>104566.390625</td>\n",
       "    </tr>\n",
       "    <tr>\n",
       "      <th>13</th>\n",
       "      <td>1474</td>\n",
       "      <td>151066.546875</td>\n",
       "    </tr>\n",
       "    <tr>\n",
       "      <th>14</th>\n",
       "      <td>1475</td>\n",
       "      <td>122632.656250</td>\n",
       "    </tr>\n",
       "    <tr>\n",
       "      <th>15</th>\n",
       "      <td>1476</td>\n",
       "      <td>380165.687500</td>\n",
       "    </tr>\n",
       "    <tr>\n",
       "      <th>16</th>\n",
       "      <td>1477</td>\n",
       "      <td>265373.593750</td>\n",
       "    </tr>\n",
       "    <tr>\n",
       "      <th>17</th>\n",
       "      <td>1478</td>\n",
       "      <td>287530.718750</td>\n",
       "    </tr>\n",
       "    <tr>\n",
       "      <th>18</th>\n",
       "      <td>1479</td>\n",
       "      <td>269680.093750</td>\n",
       "    </tr>\n",
       "    <tr>\n",
       "      <th>19</th>\n",
       "      <td>1480</td>\n",
       "      <td>519258.875000</td>\n",
       "    </tr>\n",
       "    <tr>\n",
       "      <th>20</th>\n",
       "      <td>1481</td>\n",
       "      <td>307442.406250</td>\n",
       "    </tr>\n",
       "    <tr>\n",
       "      <th>21</th>\n",
       "      <td>1482</td>\n",
       "      <td>202214.421875</td>\n",
       "    </tr>\n",
       "    <tr>\n",
       "      <th>22</th>\n",
       "      <td>1483</td>\n",
       "      <td>176068.156250</td>\n",
       "    </tr>\n",
       "    <tr>\n",
       "      <th>23</th>\n",
       "      <td>1484</td>\n",
       "      <td>173005.906250</td>\n",
       "    </tr>\n",
       "    <tr>\n",
       "      <th>24</th>\n",
       "      <td>1485</td>\n",
       "      <td>175471.687500</td>\n",
       "    </tr>\n",
       "    <tr>\n",
       "      <th>25</th>\n",
       "      <td>1486</td>\n",
       "      <td>203176.765625</td>\n",
       "    </tr>\n",
       "    <tr>\n",
       "      <th>26</th>\n",
       "      <td>1487</td>\n",
       "      <td>325284.250000</td>\n",
       "    </tr>\n",
       "    <tr>\n",
       "      <th>27</th>\n",
       "      <td>1488</td>\n",
       "      <td>230851.390625</td>\n",
       "    </tr>\n",
       "    <tr>\n",
       "      <th>28</th>\n",
       "      <td>1489</td>\n",
       "      <td>217316.093750</td>\n",
       "    </tr>\n",
       "    <tr>\n",
       "      <th>29</th>\n",
       "      <td>1490</td>\n",
       "      <td>227788.687500</td>\n",
       "    </tr>\n",
       "    <tr>\n",
       "      <th>...</th>\n",
       "      <td>...</td>\n",
       "      <td>...</td>\n",
       "    </tr>\n",
       "    <tr>\n",
       "      <th>1429</th>\n",
       "      <td>2890</td>\n",
       "      <td>83858.617188</td>\n",
       "    </tr>\n",
       "    <tr>\n",
       "      <th>1430</th>\n",
       "      <td>2891</td>\n",
       "      <td>139245.921875</td>\n",
       "    </tr>\n",
       "    <tr>\n",
       "      <th>1431</th>\n",
       "      <td>2892</td>\n",
       "      <td>36649.152344</td>\n",
       "    </tr>\n",
       "    <tr>\n",
       "      <th>1432</th>\n",
       "      <td>2893</td>\n",
       "      <td>81237.804688</td>\n",
       "    </tr>\n",
       "    <tr>\n",
       "      <th>1433</th>\n",
       "      <td>2894</td>\n",
       "      <td>44019.792969</td>\n",
       "    </tr>\n",
       "    <tr>\n",
       "      <th>1434</th>\n",
       "      <td>2895</td>\n",
       "      <td>333458.093750</td>\n",
       "    </tr>\n",
       "    <tr>\n",
       "      <th>1435</th>\n",
       "      <td>2896</td>\n",
       "      <td>284382.593750</td>\n",
       "    </tr>\n",
       "    <tr>\n",
       "      <th>1436</th>\n",
       "      <td>2897</td>\n",
       "      <td>203653.750000</td>\n",
       "    </tr>\n",
       "    <tr>\n",
       "      <th>1437</th>\n",
       "      <td>2898</td>\n",
       "      <td>145746.421875</td>\n",
       "    </tr>\n",
       "    <tr>\n",
       "      <th>1438</th>\n",
       "      <td>2899</td>\n",
       "      <td>212844.000000</td>\n",
       "    </tr>\n",
       "    <tr>\n",
       "      <th>1439</th>\n",
       "      <td>2900</td>\n",
       "      <td>172580.578125</td>\n",
       "    </tr>\n",
       "    <tr>\n",
       "      <th>1440</th>\n",
       "      <td>2901</td>\n",
       "      <td>204904.578125</td>\n",
       "    </tr>\n",
       "    <tr>\n",
       "      <th>1441</th>\n",
       "      <td>2902</td>\n",
       "      <td>187755.859375</td>\n",
       "    </tr>\n",
       "    <tr>\n",
       "      <th>1442</th>\n",
       "      <td>2903</td>\n",
       "      <td>351428.125000</td>\n",
       "    </tr>\n",
       "    <tr>\n",
       "      <th>1443</th>\n",
       "      <td>2904</td>\n",
       "      <td>350012.406250</td>\n",
       "    </tr>\n",
       "    <tr>\n",
       "      <th>1444</th>\n",
       "      <td>2905</td>\n",
       "      <td>91520.750000</td>\n",
       "    </tr>\n",
       "    <tr>\n",
       "      <th>1445</th>\n",
       "      <td>2906</td>\n",
       "      <td>208632.234375</td>\n",
       "    </tr>\n",
       "    <tr>\n",
       "      <th>1446</th>\n",
       "      <td>2907</td>\n",
       "      <td>111467.171875</td>\n",
       "    </tr>\n",
       "    <tr>\n",
       "      <th>1447</th>\n",
       "      <td>2908</td>\n",
       "      <td>135501.312500</td>\n",
       "    </tr>\n",
       "    <tr>\n",
       "      <th>1448</th>\n",
       "      <td>2909</td>\n",
       "      <td>137776.390625</td>\n",
       "    </tr>\n",
       "    <tr>\n",
       "      <th>1449</th>\n",
       "      <td>2910</td>\n",
       "      <td>83385.132812</td>\n",
       "    </tr>\n",
       "    <tr>\n",
       "      <th>1450</th>\n",
       "      <td>2911</td>\n",
       "      <td>73015.945312</td>\n",
       "    </tr>\n",
       "    <tr>\n",
       "      <th>1451</th>\n",
       "      <td>2912</td>\n",
       "      <td>142044.765625</td>\n",
       "    </tr>\n",
       "    <tr>\n",
       "      <th>1452</th>\n",
       "      <td>2913</td>\n",
       "      <td>75082.859375</td>\n",
       "    </tr>\n",
       "    <tr>\n",
       "      <th>1453</th>\n",
       "      <td>2914</td>\n",
       "      <td>70516.796875</td>\n",
       "    </tr>\n",
       "    <tr>\n",
       "      <th>1454</th>\n",
       "      <td>2915</td>\n",
       "      <td>75646.843750</td>\n",
       "    </tr>\n",
       "    <tr>\n",
       "      <th>1455</th>\n",
       "      <td>2916</td>\n",
       "      <td>70866.796875</td>\n",
       "    </tr>\n",
       "    <tr>\n",
       "      <th>1456</th>\n",
       "      <td>2917</td>\n",
       "      <td>169536.640625</td>\n",
       "    </tr>\n",
       "    <tr>\n",
       "      <th>1457</th>\n",
       "      <td>2918</td>\n",
       "      <td>112001.101562</td>\n",
       "    </tr>\n",
       "    <tr>\n",
       "      <th>1458</th>\n",
       "      <td>2919</td>\n",
       "      <td>210083.562500</td>\n",
       "    </tr>\n",
       "  </tbody>\n",
       "</table>\n",
       "<p>1459 rows × 2 columns</p>\n",
       "</div>"
      ],
      "text/plain": [
       "        Id      SalePrice\n",
       "0     1461  124847.500000\n",
       "1     1462  174801.718750\n",
       "2     1463  192165.265625\n",
       "3     1464  198786.656250\n",
       "4     1465  176868.093750\n",
       "5     1466  167618.515625\n",
       "6     1467  174399.078125\n",
       "7     1468  170246.281250\n",
       "8     1469  176545.859375\n",
       "9     1470  135439.531250\n",
       "10    1471  193351.062500\n",
       "11    1472   95670.484375\n",
       "12    1473  104566.390625\n",
       "13    1474  151066.546875\n",
       "14    1475  122632.656250\n",
       "15    1476  380165.687500\n",
       "16    1477  265373.593750\n",
       "17    1478  287530.718750\n",
       "18    1479  269680.093750\n",
       "19    1480  519258.875000\n",
       "20    1481  307442.406250\n",
       "21    1482  202214.421875\n",
       "22    1483  176068.156250\n",
       "23    1484  173005.906250\n",
       "24    1485  175471.687500\n",
       "25    1486  203176.765625\n",
       "26    1487  325284.250000\n",
       "27    1488  230851.390625\n",
       "28    1489  217316.093750\n",
       "29    1490  227788.687500\n",
       "...    ...            ...\n",
       "1429  2890   83858.617188\n",
       "1430  2891  139245.921875\n",
       "1431  2892   36649.152344\n",
       "1432  2893   81237.804688\n",
       "1433  2894   44019.792969\n",
       "1434  2895  333458.093750\n",
       "1435  2896  284382.593750\n",
       "1436  2897  203653.750000\n",
       "1437  2898  145746.421875\n",
       "1438  2899  212844.000000\n",
       "1439  2900  172580.578125\n",
       "1440  2901  204904.578125\n",
       "1441  2902  187755.859375\n",
       "1442  2903  351428.125000\n",
       "1443  2904  350012.406250\n",
       "1444  2905   91520.750000\n",
       "1445  2906  208632.234375\n",
       "1446  2907  111467.171875\n",
       "1447  2908  135501.312500\n",
       "1448  2909  137776.390625\n",
       "1449  2910   83385.132812\n",
       "1450  2911   73015.945312\n",
       "1451  2912  142044.765625\n",
       "1452  2913   75082.859375\n",
       "1453  2914   70516.796875\n",
       "1454  2915   75646.843750\n",
       "1455  2916   70866.796875\n",
       "1456  2917  169536.640625\n",
       "1457  2918  112001.101562\n",
       "1458  2919  210083.562500\n",
       "\n",
       "[1459 rows x 2 columns]"
      ]
     },
     "execution_count": 91,
     "metadata": {},
     "output_type": "execute_result"
    }
   ],
   "source": [
    "#pd.DataFrame({'Id': test.Id, 'SalePrice': test_predict})"
   ]
  },
  {
   "cell_type": "code",
   "execution_count": null,
   "metadata": {},
   "outputs": [],
   "source": []
  }
 ],
 "metadata": {
  "kernelspec": {
   "display_name": "Python 3",
   "language": "python",
   "name": "python3"
  },
  "language_info": {
   "codemirror_mode": {
    "name": "ipython",
    "version": 3
   },
   "file_extension": ".py",
   "mimetype": "text/x-python",
   "name": "python",
   "nbconvert_exporter": "python",
   "pygments_lexer": "ipython3",
   "version": "3.6.5"
  }
 },
 "nbformat": 4,
 "nbformat_minor": 1
}
